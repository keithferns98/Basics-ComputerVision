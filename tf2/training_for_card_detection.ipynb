{
  "nbformat": 4,
  "nbformat_minor": 0,
  "metadata": {
    "colab": {
      "name": "Untitled108.ipynb",
      "provenance": [],
      "mount_file_id": "1yCd19icvWMxhQE3FDprOZ_CV4a5grUX5",
      "authorship_tag": "ABX9TyP0/clr1RNtObhJ6s2efCrq",
      "include_colab_link": true
    },
    "kernelspec": {
      "name": "python3",
      "display_name": "Python 3"
    },
    "language_info": {
      "name": "python"
    },
    "accelerator": "GPU"
  },
  "cells": [
    {
      "cell_type": "markdown",
      "metadata": {
        "id": "view-in-github",
        "colab_type": "text"
      },
      "source": [
        "<a href=\"https://colab.research.google.com/github/keithferns98/Basics-ComputerVision/blob/main/tf2/training_for_card_detection.ipynb\" target=\"_parent\"><img src=\"https://colab.research.google.com/assets/colab-badge.svg\" alt=\"Open In Colab\"/></a>"
      ]
    },
    {
      "cell_type": "code",
      "execution_count": null,
      "metadata": {
        "colab": {
          "base_uri": "https://localhost:8080/"
        },
        "id": "bO4YLZGN4uk2",
        "outputId": "df134352-569c-43a0-ba0a-80eab1d26e7d"
      },
      "outputs": [
        {
          "output_type": "stream",
          "name": "stdout",
          "text": [
            "Requirement already satisfied: tensorflow==2.* in /usr/local/lib/python3.7/dist-packages (2.8.0)\n",
            "Requirement already satisfied: wrapt>=1.11.0 in /usr/local/lib/python3.7/dist-packages (from tensorflow==2.*) (1.14.0)\n",
            "Requirement already satisfied: grpcio<2.0,>=1.24.3 in /usr/local/lib/python3.7/dist-packages (from tensorflow==2.*) (1.44.0)\n",
            "Requirement already satisfied: google-pasta>=0.1.1 in /usr/local/lib/python3.7/dist-packages (from tensorflow==2.*) (0.2.0)\n",
            "Requirement already satisfied: six>=1.12.0 in /usr/local/lib/python3.7/dist-packages (from tensorflow==2.*) (1.15.0)\n",
            "Requirement already satisfied: gast>=0.2.1 in /usr/local/lib/python3.7/dist-packages (from tensorflow==2.*) (0.5.3)\n",
            "Requirement already satisfied: flatbuffers>=1.12 in /usr/local/lib/python3.7/dist-packages (from tensorflow==2.*) (2.0)\n",
            "Requirement already satisfied: tensorflow-io-gcs-filesystem>=0.23.1 in /usr/local/lib/python3.7/dist-packages (from tensorflow==2.*) (0.24.0)\n",
            "Requirement already satisfied: keras-preprocessing>=1.1.1 in /usr/local/lib/python3.7/dist-packages (from tensorflow==2.*) (1.1.2)\n",
            "Requirement already satisfied: astunparse>=1.6.0 in /usr/local/lib/python3.7/dist-packages (from tensorflow==2.*) (1.6.3)\n",
            "Requirement already satisfied: protobuf>=3.9.2 in /usr/local/lib/python3.7/dist-packages (from tensorflow==2.*) (3.19.4)\n",
            "Requirement already satisfied: opt-einsum>=2.3.2 in /usr/local/lib/python3.7/dist-packages (from tensorflow==2.*) (3.3.0)\n",
            "Requirement already satisfied: libclang>=9.0.1 in /usr/local/lib/python3.7/dist-packages (from tensorflow==2.*) (13.0.0)\n",
            "Requirement already satisfied: tensorboard<2.9,>=2.8 in /usr/local/lib/python3.7/dist-packages (from tensorflow==2.*) (2.8.0)\n",
            "Requirement already satisfied: keras<2.9,>=2.8.0rc0 in /usr/local/lib/python3.7/dist-packages (from tensorflow==2.*) (2.8.0)\n",
            "Requirement already satisfied: termcolor>=1.1.0 in /usr/local/lib/python3.7/dist-packages (from tensorflow==2.*) (1.1.0)\n",
            "Requirement already satisfied: absl-py>=0.4.0 in /usr/local/lib/python3.7/dist-packages (from tensorflow==2.*) (1.0.0)\n",
            "Requirement already satisfied: h5py>=2.9.0 in /usr/local/lib/python3.7/dist-packages (from tensorflow==2.*) (3.1.0)\n",
            "Requirement already satisfied: numpy>=1.20 in /usr/local/lib/python3.7/dist-packages (from tensorflow==2.*) (1.21.5)\n",
            "Requirement already satisfied: tf-estimator-nightly==2.8.0.dev2021122109 in /usr/local/lib/python3.7/dist-packages (from tensorflow==2.*) (2.8.0.dev2021122109)\n",
            "Requirement already satisfied: setuptools in /usr/local/lib/python3.7/dist-packages (from tensorflow==2.*) (57.4.0)\n",
            "Requirement already satisfied: typing-extensions>=3.6.6 in /usr/local/lib/python3.7/dist-packages (from tensorflow==2.*) (3.10.0.2)\n",
            "Requirement already satisfied: wheel<1.0,>=0.23.0 in /usr/local/lib/python3.7/dist-packages (from astunparse>=1.6.0->tensorflow==2.*) (0.37.1)\n",
            "Requirement already satisfied: cached-property in /usr/local/lib/python3.7/dist-packages (from h5py>=2.9.0->tensorflow==2.*) (1.5.2)\n",
            "Requirement already satisfied: tensorboard-data-server<0.7.0,>=0.6.0 in /usr/local/lib/python3.7/dist-packages (from tensorboard<2.9,>=2.8->tensorflow==2.*) (0.6.1)\n",
            "Requirement already satisfied: werkzeug>=0.11.15 in /usr/local/lib/python3.7/dist-packages (from tensorboard<2.9,>=2.8->tensorflow==2.*) (1.0.1)\n",
            "Requirement already satisfied: tensorboard-plugin-wit>=1.6.0 in /usr/local/lib/python3.7/dist-packages (from tensorboard<2.9,>=2.8->tensorflow==2.*) (1.8.1)\n",
            "Requirement already satisfied: google-auth<3,>=1.6.3 in /usr/local/lib/python3.7/dist-packages (from tensorboard<2.9,>=2.8->tensorflow==2.*) (1.35.0)\n",
            "Requirement already satisfied: google-auth-oauthlib<0.5,>=0.4.1 in /usr/local/lib/python3.7/dist-packages (from tensorboard<2.9,>=2.8->tensorflow==2.*) (0.4.6)\n",
            "Requirement already satisfied: requests<3,>=2.21.0 in /usr/local/lib/python3.7/dist-packages (from tensorboard<2.9,>=2.8->tensorflow==2.*) (2.27.1)\n",
            "Requirement already satisfied: markdown>=2.6.8 in /usr/local/lib/python3.7/dist-packages (from tensorboard<2.9,>=2.8->tensorflow==2.*) (3.3.6)\n",
            "Requirement already satisfied: pyasn1-modules>=0.2.1 in /usr/local/lib/python3.7/dist-packages (from google-auth<3,>=1.6.3->tensorboard<2.9,>=2.8->tensorflow==2.*) (0.2.8)\n",
            "Requirement already satisfied: cachetools<5.0,>=2.0.0 in /usr/local/lib/python3.7/dist-packages (from google-auth<3,>=1.6.3->tensorboard<2.9,>=2.8->tensorflow==2.*) (4.2.4)\n",
            "Requirement already satisfied: rsa<5,>=3.1.4 in /usr/local/lib/python3.7/dist-packages (from google-auth<3,>=1.6.3->tensorboard<2.9,>=2.8->tensorflow==2.*) (4.8)\n",
            "Requirement already satisfied: requests-oauthlib>=0.7.0 in /usr/local/lib/python3.7/dist-packages (from google-auth-oauthlib<0.5,>=0.4.1->tensorboard<2.9,>=2.8->tensorflow==2.*) (1.3.1)\n",
            "Requirement already satisfied: importlib-metadata>=4.4 in /usr/local/lib/python3.7/dist-packages (from markdown>=2.6.8->tensorboard<2.9,>=2.8->tensorflow==2.*) (4.11.3)\n",
            "Requirement already satisfied: zipp>=0.5 in /usr/local/lib/python3.7/dist-packages (from importlib-metadata>=4.4->markdown>=2.6.8->tensorboard<2.9,>=2.8->tensorflow==2.*) (3.7.0)\n",
            "Requirement already satisfied: pyasn1<0.5.0,>=0.4.6 in /usr/local/lib/python3.7/dist-packages (from pyasn1-modules>=0.2.1->google-auth<3,>=1.6.3->tensorboard<2.9,>=2.8->tensorflow==2.*) (0.4.8)\n",
            "Requirement already satisfied: certifi>=2017.4.17 in /usr/local/lib/python3.7/dist-packages (from requests<3,>=2.21.0->tensorboard<2.9,>=2.8->tensorflow==2.*) (2021.10.8)\n",
            "Requirement already satisfied: idna<4,>=2.5 in /usr/local/lib/python3.7/dist-packages (from requests<3,>=2.21.0->tensorboard<2.9,>=2.8->tensorflow==2.*) (2.10)\n",
            "Requirement already satisfied: charset-normalizer~=2.0.0 in /usr/local/lib/python3.7/dist-packages (from requests<3,>=2.21.0->tensorboard<2.9,>=2.8->tensorflow==2.*) (2.0.12)\n",
            "Requirement already satisfied: urllib3<1.27,>=1.21.1 in /usr/local/lib/python3.7/dist-packages (from requests<3,>=2.21.0->tensorboard<2.9,>=2.8->tensorflow==2.*) (1.24.3)\n",
            "Requirement already satisfied: oauthlib>=3.0.0 in /usr/local/lib/python3.7/dist-packages (from requests-oauthlib>=0.7.0->google-auth-oauthlib<0.5,>=0.4.1->tensorboard<2.9,>=2.8->tensorflow==2.*) (3.2.0)\n",
            "Requirement already satisfied: tf_slim in /usr/local/lib/python3.7/dist-packages (1.1.0)\n",
            "Requirement already satisfied: absl-py>=0.2.2 in /usr/local/lib/python3.7/dist-packages (from tf_slim) (1.0.0)\n",
            "Requirement already satisfied: six in /usr/local/lib/python3.7/dist-packages (from absl-py>=0.2.2->tf_slim) (1.15.0)\n"
          ]
        }
      ],
      "source": [
        "!pip install -U --pre tensorflow==\"2.*\"\n",
        "!pip install tf_slim"
      ]
    },
    {
      "cell_type": "code",
      "source": [
        "!pip install opencv-python"
      ],
      "metadata": {
        "colab": {
          "base_uri": "https://localhost:8080/"
        },
        "id": "oVtMmkaOjF9R",
        "outputId": "2eeb7849-8a9a-493e-9440-f7d565997603"
      },
      "execution_count": null,
      "outputs": [
        {
          "output_type": "stream",
          "name": "stdout",
          "text": [
            "Requirement already satisfied: opencv-python in /usr/local/lib/python3.7/dist-packages (4.1.2.30)\n",
            "Requirement already satisfied: numpy>=1.14.5 in /usr/local/lib/python3.7/dist-packages (from opencv-python) (1.21.5)\n"
          ]
        }
      ]
    },
    {
      "cell_type": "code",
      "source": [
        "!nvidia-smi"
      ],
      "metadata": {
        "colab": {
          "base_uri": "https://localhost:8080/"
        },
        "id": "K7NNonjKHZ9v",
        "outputId": "c09c4bf1-fd12-4a7b-b856-11b7f7ff67e0"
      },
      "execution_count": null,
      "outputs": [
        {
          "output_type": "stream",
          "name": "stdout",
          "text": [
            "Fri Apr  1 10:37:31 2022       \n",
            "+-----------------------------------------------------------------------------+\n",
            "| NVIDIA-SMI 460.32.03    Driver Version: 460.32.03    CUDA Version: 11.2     |\n",
            "|-------------------------------+----------------------+----------------------+\n",
            "| GPU  Name        Persistence-M| Bus-Id        Disp.A | Volatile Uncorr. ECC |\n",
            "| Fan  Temp  Perf  Pwr:Usage/Cap|         Memory-Usage | GPU-Util  Compute M. |\n",
            "|                               |                      |               MIG M. |\n",
            "|===============================+======================+======================|\n",
            "|   0  Tesla K80           Off  | 00000000:00:04.0 Off |                    0 |\n",
            "| N/A   62C    P8    29W / 149W |      0MiB / 11441MiB |      0%      Default |\n",
            "|                               |                      |                  N/A |\n",
            "+-------------------------------+----------------------+----------------------+\n",
            "                                                                               \n",
            "+-----------------------------------------------------------------------------+\n",
            "| Processes:                                                                  |\n",
            "|  GPU   GI   CI        PID   Type   Process name                  GPU Memory |\n",
            "|        ID   ID                                                   Usage      |\n",
            "|=============================================================================|\n",
            "|  No running processes found                                                 |\n",
            "+-----------------------------------------------------------------------------+\n"
          ]
        }
      ]
    },
    {
      "cell_type": "code",
      "source": [
        "%cd /content/drive/MyDrive/TF2"
      ],
      "metadata": {
        "colab": {
          "base_uri": "https://localhost:8080/"
        },
        "id": "YQVlMbLO5Gd-",
        "outputId": "b94db2b8-d65f-40ba-8eb6-7bb4ae1ccab8"
      },
      "execution_count": null,
      "outputs": [
        {
          "output_type": "stream",
          "name": "stdout",
          "text": [
            "/content/drive/MyDrive/TF2\n"
          ]
        }
      ]
    },
    {
      "cell_type": "code",
      "source": [
        "!pip install pycocotools"
      ],
      "metadata": {
        "colab": {
          "base_uri": "https://localhost:8080/"
        },
        "id": "xKK-yIh45bm8",
        "outputId": "7ee02f84-5ce8-4ef1-a509-4ca4b106e830"
      },
      "execution_count": null,
      "outputs": [
        {
          "output_type": "stream",
          "name": "stdout",
          "text": [
            "Requirement already satisfied: pycocotools in /usr/local/lib/python3.7/dist-packages (2.0.4)\n",
            "Requirement already satisfied: numpy in /usr/local/lib/python3.7/dist-packages (from pycocotools) (1.21.5)\n",
            "Requirement already satisfied: matplotlib>=2.1.0 in /usr/local/lib/python3.7/dist-packages (from pycocotools) (3.2.2)\n",
            "Requirement already satisfied: pyparsing!=2.0.4,!=2.1.2,!=2.1.6,>=2.0.1 in /usr/local/lib/python3.7/dist-packages (from matplotlib>=2.1.0->pycocotools) (3.0.7)\n",
            "Requirement already satisfied: kiwisolver>=1.0.1 in /usr/local/lib/python3.7/dist-packages (from matplotlib>=2.1.0->pycocotools) (1.4.0)\n",
            "Requirement already satisfied: cycler>=0.10 in /usr/local/lib/python3.7/dist-packages (from matplotlib>=2.1.0->pycocotools) (0.11.0)\n",
            "Requirement already satisfied: python-dateutil>=2.1 in /usr/local/lib/python3.7/dist-packages (from matplotlib>=2.1.0->pycocotools) (2.8.2)\n",
            "Requirement already satisfied: typing-extensions in /usr/local/lib/python3.7/dist-packages (from kiwisolver>=1.0.1->matplotlib>=2.1.0->pycocotools) (3.10.0.2)\n",
            "Requirement already satisfied: six>=1.5 in /usr/local/lib/python3.7/dist-packages (from python-dateutil>=2.1->matplotlib>=2.1.0->pycocotools) (1.15.0)\n"
          ]
        }
      ]
    },
    {
      "cell_type": "code",
      "source": [
        "import pycocotools"
      ],
      "metadata": {
        "id": "Hmbt3egG5nIX"
      },
      "execution_count": null,
      "outputs": []
    },
    {
      "cell_type": "code",
      "source": [
        "pwd"
      ],
      "metadata": {
        "colab": {
          "base_uri": "https://localhost:8080/",
          "height": 36
        },
        "id": "H5kLk_C164H4",
        "outputId": "05652905-9718-4b8b-b636-4319e2858db5"
      },
      "execution_count": null,
      "outputs": [
        {
          "output_type": "execute_result",
          "data": {
            "text/plain": [
              "'/content'"
            ],
            "application/vnd.google.colaboratory.intrinsic+json": {
              "type": "string"
            }
          },
          "metadata": {},
          "execution_count": 5
        }
      ]
    },
    {
      "cell_type": "code",
      "source": [
        "import os\n",
        "import pathlib\n",
        "\n",
        "if \"models\" in pathlib.Path.cwd().parts:\n",
        "  while \"models\" in pathlib.Path.cwd().parts:\n",
        "    os.chdir('..')\n",
        "elif not pathlib.Path('models').exists():\n",
        "  !git clone --depth 1 https://github.com/tensorflow/models"
      ],
      "metadata": {
        "id": "B0SQtQpC6T-m"
      },
      "execution_count": null,
      "outputs": []
    },
    {
      "cell_type": "code",
      "source": [
        "%%bash\n",
        "cd models/research/\n",
        "\n",
        "protoc object_detection/protos/*.proto --python_out=."
      ],
      "metadata": {
        "id": "hLg4_gvB67Pe",
        "colab": {
          "base_uri": "https://localhost:8080/"
        },
        "outputId": "d87cae4f-dfad-407d-f9c9-5b7c7c5e69fc"
      },
      "execution_count": null,
      "outputs": [
        {
          "output_type": "stream",
          "name": "stderr",
          "text": [
            "bash: line 1: cd: models/research/: No such file or directory\n",
            "object_detection/protos/*.proto: No such file or directory\n"
          ]
        }
      ]
    },
    {
      "cell_type": "code",
      "source": [
        "pwd"
      ],
      "metadata": {
        "colab": {
          "base_uri": "https://localhost:8080/",
          "height": 36
        },
        "id": "dIp9_2c7JDrp",
        "outputId": "aba36c66-0177-41eb-e807-e50a95e83bda"
      },
      "execution_count": null,
      "outputs": [
        {
          "output_type": "execute_result",
          "data": {
            "text/plain": [
              "'/content/drive/MyDrive/TF2/models/research'"
            ],
            "application/vnd.google.colaboratory.intrinsic+json": {
              "type": "string"
            }
          },
          "metadata": {},
          "execution_count": 14
        }
      ]
    },
    {
      "cell_type": "code",
      "source": [
        "%cd .."
      ],
      "metadata": {
        "colab": {
          "base_uri": "https://localhost:8080/"
        },
        "id": "C13j_SOLSBJF",
        "outputId": "4b580594-e766-4b17-9445-75d7dfde0b4f"
      },
      "execution_count": null,
      "outputs": [
        {
          "output_type": "stream",
          "name": "stdout",
          "text": [
            "/content/drive/MyDrive/TF2\n"
          ]
        }
      ]
    },
    {
      "cell_type": "code",
      "source": [
        "%%bash\n",
        "cd models/research/object_detection/packages/tf2\n",
        "pip install ."
      ],
      "metadata": {
        "colab": {
          "base_uri": "https://localhost:8080/"
        },
        "id": "s5PlVz4G-Ssg",
        "outputId": "1cd10069-3323-44e9-a5c8-b3d7cc9672cc"
      },
      "execution_count": null,
      "outputs": [
        {
          "output_type": "stream",
          "name": "stdout",
          "text": [
            "Processing /content/drive/MyDrive/TF2/models/research/object_detection/packages/tf2\n",
            "Requirement already satisfied: avro-python3 in /usr/local/lib/python3.7/dist-packages (from object-detection==0.1) (1.10.2)\n",
            "Requirement already satisfied: apache-beam in /usr/local/lib/python3.7/dist-packages (from object-detection==0.1) (2.37.0)\n",
            "Requirement already satisfied: pillow in /usr/local/lib/python3.7/dist-packages (from object-detection==0.1) (7.1.2)\n",
            "Requirement already satisfied: lxml in /usr/local/lib/python3.7/dist-packages (from object-detection==0.1) (4.2.6)\n",
            "Requirement already satisfied: matplotlib in /usr/local/lib/python3.7/dist-packages (from object-detection==0.1) (3.2.2)\n",
            "Requirement already satisfied: Cython in /usr/local/lib/python3.7/dist-packages (from object-detection==0.1) (0.29.28)\n",
            "Requirement already satisfied: contextlib2 in /usr/local/lib/python3.7/dist-packages (from object-detection==0.1) (0.5.5)\n",
            "Requirement already satisfied: tf-slim in /usr/local/lib/python3.7/dist-packages (from object-detection==0.1) (1.1.0)\n",
            "Requirement already satisfied: six in /usr/local/lib/python3.7/dist-packages (from object-detection==0.1) (1.15.0)\n",
            "Requirement already satisfied: pycocotools in /usr/local/lib/python3.7/dist-packages (from object-detection==0.1) (2.0.4)\n",
            "Requirement already satisfied: lvis in /usr/local/lib/python3.7/dist-packages (from object-detection==0.1) (0.5.3)\n",
            "Requirement already satisfied: scipy in /usr/local/lib/python3.7/dist-packages (from object-detection==0.1) (1.4.1)\n",
            "Requirement already satisfied: pandas in /usr/local/lib/python3.7/dist-packages (from object-detection==0.1) (1.3.5)\n",
            "Requirement already satisfied: tf-models-official>=2.5.1 in /usr/local/lib/python3.7/dist-packages (from object-detection==0.1) (2.8.0)\n",
            "Requirement already satisfied: tensorflow_io in /usr/local/lib/python3.7/dist-packages (from object-detection==0.1) (0.24.0)\n",
            "Requirement already satisfied: keras in /usr/local/lib/python3.7/dist-packages (from object-detection==0.1) (2.8.0)\n",
            "Requirement already satisfied: google-api-python-client>=1.6.7 in /usr/local/lib/python3.7/dist-packages (from tf-models-official>=2.5.1->object-detection==0.1) (1.12.11)\n",
            "Requirement already satisfied: tensorflow-addons in /usr/local/lib/python3.7/dist-packages (from tf-models-official>=2.5.1->object-detection==0.1) (0.16.1)\n",
            "Requirement already satisfied: tensorflow-hub>=0.6.0 in /usr/local/lib/python3.7/dist-packages (from tf-models-official>=2.5.1->object-detection==0.1) (0.12.0)\n",
            "Requirement already satisfied: kaggle>=1.3.9 in /usr/local/lib/python3.7/dist-packages (from tf-models-official>=2.5.1->object-detection==0.1) (1.5.12)\n",
            "Requirement already satisfied: psutil>=5.4.3 in /usr/local/lib/python3.7/dist-packages (from tf-models-official>=2.5.1->object-detection==0.1) (5.4.8)\n",
            "Requirement already satisfied: tensorflow~=2.8.0 in /usr/local/lib/python3.7/dist-packages (from tf-models-official>=2.5.1->object-detection==0.1) (2.8.0)\n",
            "Requirement already satisfied: sacrebleu in /usr/local/lib/python3.7/dist-packages (from tf-models-official>=2.5.1->object-detection==0.1) (2.0.0)\n",
            "Requirement already satisfied: tensorflow-text~=2.8.0 in /usr/local/lib/python3.7/dist-packages (from tf-models-official>=2.5.1->object-detection==0.1) (2.8.1)\n",
            "Requirement already satisfied: pyyaml<6.0,>=5.1 in /usr/local/lib/python3.7/dist-packages (from tf-models-official>=2.5.1->object-detection==0.1) (5.4.1)\n",
            "Requirement already satisfied: seqeval in /usr/local/lib/python3.7/dist-packages (from tf-models-official>=2.5.1->object-detection==0.1) (1.2.2)\n",
            "Requirement already satisfied: py-cpuinfo>=3.3.0 in /usr/local/lib/python3.7/dist-packages (from tf-models-official>=2.5.1->object-detection==0.1) (8.0.0)\n",
            "Requirement already satisfied: numpy>=1.15.4 in /usr/local/lib/python3.7/dist-packages (from tf-models-official>=2.5.1->object-detection==0.1) (1.21.5)\n",
            "Requirement already satisfied: sentencepiece in /usr/local/lib/python3.7/dist-packages (from tf-models-official>=2.5.1->object-detection==0.1) (0.1.96)\n",
            "Requirement already satisfied: opencv-python-headless in /usr/local/lib/python3.7/dist-packages (from tf-models-official>=2.5.1->object-detection==0.1) (4.5.5.64)\n",
            "Requirement already satisfied: gin-config in /usr/local/lib/python3.7/dist-packages (from tf-models-official>=2.5.1->object-detection==0.1) (0.5.0)\n",
            "Requirement already satisfied: oauth2client in /usr/local/lib/python3.7/dist-packages (from tf-models-official>=2.5.1->object-detection==0.1) (4.1.3)\n",
            "Requirement already satisfied: tensorflow-model-optimization>=0.4.1 in /usr/local/lib/python3.7/dist-packages (from tf-models-official>=2.5.1->object-detection==0.1) (0.7.2)\n",
            "Requirement already satisfied: tensorflow-datasets in /usr/local/lib/python3.7/dist-packages (from tf-models-official>=2.5.1->object-detection==0.1) (4.0.1)\n",
            "Requirement already satisfied: httplib2<1dev,>=0.15.0 in /usr/local/lib/python3.7/dist-packages (from google-api-python-client>=1.6.7->tf-models-official>=2.5.1->object-detection==0.1) (0.17.4)\n",
            "Requirement already satisfied: google-auth-httplib2>=0.0.3 in /usr/local/lib/python3.7/dist-packages (from google-api-python-client>=1.6.7->tf-models-official>=2.5.1->object-detection==0.1) (0.0.4)\n",
            "Requirement already satisfied: google-auth<3dev,>=1.16.0 in /usr/local/lib/python3.7/dist-packages (from google-api-python-client>=1.6.7->tf-models-official>=2.5.1->object-detection==0.1) (1.35.0)\n",
            "Requirement already satisfied: uritemplate<4dev,>=3.0.0 in /usr/local/lib/python3.7/dist-packages (from google-api-python-client>=1.6.7->tf-models-official>=2.5.1->object-detection==0.1) (3.0.1)\n",
            "Requirement already satisfied: google-api-core<3dev,>=1.21.0 in /usr/local/lib/python3.7/dist-packages (from google-api-python-client>=1.6.7->tf-models-official>=2.5.1->object-detection==0.1) (1.26.3)\n",
            "Requirement already satisfied: packaging>=14.3 in /usr/local/lib/python3.7/dist-packages (from google-api-core<3dev,>=1.21.0->google-api-python-client>=1.6.7->tf-models-official>=2.5.1->object-detection==0.1) (21.3)\n",
            "Requirement already satisfied: setuptools>=40.3.0 in /usr/local/lib/python3.7/dist-packages (from google-api-core<3dev,>=1.21.0->google-api-python-client>=1.6.7->tf-models-official>=2.5.1->object-detection==0.1) (57.4.0)\n",
            "Requirement already satisfied: requests<3.0.0dev,>=2.18.0 in /usr/local/lib/python3.7/dist-packages (from google-api-core<3dev,>=1.21.0->google-api-python-client>=1.6.7->tf-models-official>=2.5.1->object-detection==0.1) (2.27.1)\n",
            "Requirement already satisfied: googleapis-common-protos<2.0dev,>=1.6.0 in /usr/local/lib/python3.7/dist-packages (from google-api-core<3dev,>=1.21.0->google-api-python-client>=1.6.7->tf-models-official>=2.5.1->object-detection==0.1) (1.56.0)\n",
            "Requirement already satisfied: protobuf>=3.12.0 in /usr/local/lib/python3.7/dist-packages (from google-api-core<3dev,>=1.21.0->google-api-python-client>=1.6.7->tf-models-official>=2.5.1->object-detection==0.1) (3.19.4)\n",
            "Requirement already satisfied: pytz in /usr/local/lib/python3.7/dist-packages (from google-api-core<3dev,>=1.21.0->google-api-python-client>=1.6.7->tf-models-official>=2.5.1->object-detection==0.1) (2018.9)\n",
            "Requirement already satisfied: rsa<5,>=3.1.4 in /usr/local/lib/python3.7/dist-packages (from google-auth<3dev,>=1.16.0->google-api-python-client>=1.6.7->tf-models-official>=2.5.1->object-detection==0.1) (4.8)\n",
            "Requirement already satisfied: pyasn1-modules>=0.2.1 in /usr/local/lib/python3.7/dist-packages (from google-auth<3dev,>=1.16.0->google-api-python-client>=1.6.7->tf-models-official>=2.5.1->object-detection==0.1) (0.2.8)\n",
            "Requirement already satisfied: cachetools<5.0,>=2.0.0 in /usr/local/lib/python3.7/dist-packages (from google-auth<3dev,>=1.16.0->google-api-python-client>=1.6.7->tf-models-official>=2.5.1->object-detection==0.1) (4.2.4)\n",
            "Requirement already satisfied: python-slugify in /usr/local/lib/python3.7/dist-packages (from kaggle>=1.3.9->tf-models-official>=2.5.1->object-detection==0.1) (6.1.1)\n",
            "Requirement already satisfied: tqdm in /usr/local/lib/python3.7/dist-packages (from kaggle>=1.3.9->tf-models-official>=2.5.1->object-detection==0.1) (4.63.0)\n",
            "Requirement already satisfied: urllib3 in /usr/local/lib/python3.7/dist-packages (from kaggle>=1.3.9->tf-models-official>=2.5.1->object-detection==0.1) (1.24.3)\n",
            "Requirement already satisfied: python-dateutil in /usr/local/lib/python3.7/dist-packages (from kaggle>=1.3.9->tf-models-official>=2.5.1->object-detection==0.1) (2.8.2)\n",
            "Requirement already satisfied: certifi in /usr/local/lib/python3.7/dist-packages (from kaggle>=1.3.9->tf-models-official>=2.5.1->object-detection==0.1) (2021.10.8)\n",
            "Requirement already satisfied: pyparsing!=3.0.5,>=2.0.2 in /usr/local/lib/python3.7/dist-packages (from packaging>=14.3->google-api-core<3dev,>=1.21.0->google-api-python-client>=1.6.7->tf-models-official>=2.5.1->object-detection==0.1) (3.0.7)\n",
            "Requirement already satisfied: pyasn1<0.5.0,>=0.4.6 in /usr/local/lib/python3.7/dist-packages (from pyasn1-modules>=0.2.1->google-auth<3dev,>=1.16.0->google-api-python-client>=1.6.7->tf-models-official>=2.5.1->object-detection==0.1) (0.4.8)\n",
            "Requirement already satisfied: charset-normalizer~=2.0.0 in /usr/local/lib/python3.7/dist-packages (from requests<3.0.0dev,>=2.18.0->google-api-core<3dev,>=1.21.0->google-api-python-client>=1.6.7->tf-models-official>=2.5.1->object-detection==0.1) (2.0.12)\n",
            "Requirement already satisfied: idna<4,>=2.5 in /usr/local/lib/python3.7/dist-packages (from requests<3.0.0dev,>=2.18.0->google-api-core<3dev,>=1.21.0->google-api-python-client>=1.6.7->tf-models-official>=2.5.1->object-detection==0.1) (2.10)\n",
            "Requirement already satisfied: typing-extensions>=3.6.6 in /usr/local/lib/python3.7/dist-packages (from tensorflow~=2.8.0->tf-models-official>=2.5.1->object-detection==0.1) (3.10.0.2)\n",
            "Requirement already satisfied: astunparse>=1.6.0 in /usr/local/lib/python3.7/dist-packages (from tensorflow~=2.8.0->tf-models-official>=2.5.1->object-detection==0.1) (1.6.3)\n",
            "Requirement already satisfied: wrapt>=1.11.0 in /usr/local/lib/python3.7/dist-packages (from tensorflow~=2.8.0->tf-models-official>=2.5.1->object-detection==0.1) (1.14.0)\n",
            "Requirement already satisfied: keras-preprocessing>=1.1.1 in /usr/local/lib/python3.7/dist-packages (from tensorflow~=2.8.0->tf-models-official>=2.5.1->object-detection==0.1) (1.1.2)\n",
            "Requirement already satisfied: tensorboard<2.9,>=2.8 in /usr/local/lib/python3.7/dist-packages (from tensorflow~=2.8.0->tf-models-official>=2.5.1->object-detection==0.1) (2.8.0)\n",
            "Requirement already satisfied: gast>=0.2.1 in /usr/local/lib/python3.7/dist-packages (from tensorflow~=2.8.0->tf-models-official>=2.5.1->object-detection==0.1) (0.5.3)\n",
            "Requirement already satisfied: libclang>=9.0.1 in /usr/local/lib/python3.7/dist-packages (from tensorflow~=2.8.0->tf-models-official>=2.5.1->object-detection==0.1) (13.0.0)\n",
            "Requirement already satisfied: termcolor>=1.1.0 in /usr/local/lib/python3.7/dist-packages (from tensorflow~=2.8.0->tf-models-official>=2.5.1->object-detection==0.1) (1.1.0)\n",
            "Requirement already satisfied: absl-py>=0.4.0 in /usr/local/lib/python3.7/dist-packages (from tensorflow~=2.8.0->tf-models-official>=2.5.1->object-detection==0.1) (1.0.0)\n",
            "Requirement already satisfied: opt-einsum>=2.3.2 in /usr/local/lib/python3.7/dist-packages (from tensorflow~=2.8.0->tf-models-official>=2.5.1->object-detection==0.1) (3.3.0)\n",
            "Requirement already satisfied: grpcio<2.0,>=1.24.3 in /usr/local/lib/python3.7/dist-packages (from tensorflow~=2.8.0->tf-models-official>=2.5.1->object-detection==0.1) (1.44.0)\n",
            "Requirement already satisfied: google-pasta>=0.1.1 in /usr/local/lib/python3.7/dist-packages (from tensorflow~=2.8.0->tf-models-official>=2.5.1->object-detection==0.1) (0.2.0)\n",
            "Requirement already satisfied: tf-estimator-nightly==2.8.0.dev2021122109 in /usr/local/lib/python3.7/dist-packages (from tensorflow~=2.8.0->tf-models-official>=2.5.1->object-detection==0.1) (2.8.0.dev2021122109)\n",
            "Requirement already satisfied: h5py>=2.9.0 in /usr/local/lib/python3.7/dist-packages (from tensorflow~=2.8.0->tf-models-official>=2.5.1->object-detection==0.1) (3.1.0)\n",
            "Requirement already satisfied: flatbuffers>=1.12 in /usr/local/lib/python3.7/dist-packages (from tensorflow~=2.8.0->tf-models-official>=2.5.1->object-detection==0.1) (2.0)\n",
            "Requirement already satisfied: tensorflow-io-gcs-filesystem>=0.23.1 in /usr/local/lib/python3.7/dist-packages (from tensorflow~=2.8.0->tf-models-official>=2.5.1->object-detection==0.1) (0.24.0)\n",
            "Requirement already satisfied: wheel<1.0,>=0.23.0 in /usr/local/lib/python3.7/dist-packages (from astunparse>=1.6.0->tensorflow~=2.8.0->tf-models-official>=2.5.1->object-detection==0.1) (0.37.1)\n",
            "Requirement already satisfied: cached-property in /usr/local/lib/python3.7/dist-packages (from h5py>=2.9.0->tensorflow~=2.8.0->tf-models-official>=2.5.1->object-detection==0.1) (1.5.2)\n",
            "Requirement already satisfied: google-auth-oauthlib<0.5,>=0.4.1 in /usr/local/lib/python3.7/dist-packages (from tensorboard<2.9,>=2.8->tensorflow~=2.8.0->tf-models-official>=2.5.1->object-detection==0.1) (0.4.6)\n",
            "Requirement already satisfied: markdown>=2.6.8 in /usr/local/lib/python3.7/dist-packages (from tensorboard<2.9,>=2.8->tensorflow~=2.8.0->tf-models-official>=2.5.1->object-detection==0.1) (3.3.6)\n",
            "Requirement already satisfied: tensorboard-plugin-wit>=1.6.0 in /usr/local/lib/python3.7/dist-packages (from tensorboard<2.9,>=2.8->tensorflow~=2.8.0->tf-models-official>=2.5.1->object-detection==0.1) (1.8.1)\n",
            "Requirement already satisfied: werkzeug>=0.11.15 in /usr/local/lib/python3.7/dist-packages (from tensorboard<2.9,>=2.8->tensorflow~=2.8.0->tf-models-official>=2.5.1->object-detection==0.1) (1.0.1)\n",
            "Requirement already satisfied: tensorboard-data-server<0.7.0,>=0.6.0 in /usr/local/lib/python3.7/dist-packages (from tensorboard<2.9,>=2.8->tensorflow~=2.8.0->tf-models-official>=2.5.1->object-detection==0.1) (0.6.1)\n",
            "Requirement already satisfied: requests-oauthlib>=0.7.0 in /usr/local/lib/python3.7/dist-packages (from google-auth-oauthlib<0.5,>=0.4.1->tensorboard<2.9,>=2.8->tensorflow~=2.8.0->tf-models-official>=2.5.1->object-detection==0.1) (1.3.1)\n",
            "Requirement already satisfied: importlib-metadata>=4.4 in /usr/local/lib/python3.7/dist-packages (from markdown>=2.6.8->tensorboard<2.9,>=2.8->tensorflow~=2.8.0->tf-models-official>=2.5.1->object-detection==0.1) (4.11.3)\n",
            "Requirement already satisfied: zipp>=0.5 in /usr/local/lib/python3.7/dist-packages (from importlib-metadata>=4.4->markdown>=2.6.8->tensorboard<2.9,>=2.8->tensorflow~=2.8.0->tf-models-official>=2.5.1->object-detection==0.1) (3.7.0)\n",
            "Requirement already satisfied: oauthlib>=3.0.0 in /usr/local/lib/python3.7/dist-packages (from requests-oauthlib>=0.7.0->google-auth-oauthlib<0.5,>=0.4.1->tensorboard<2.9,>=2.8->tensorflow~=2.8.0->tf-models-official>=2.5.1->object-detection==0.1) (3.2.0)\n",
            "Requirement already satisfied: dm-tree~=0.1.1 in /usr/local/lib/python3.7/dist-packages (from tensorflow-model-optimization>=0.4.1->tf-models-official>=2.5.1->object-detection==0.1) (0.1.6)\n",
            "Requirement already satisfied: proto-plus<2,>=1.7.1 in /usr/local/lib/python3.7/dist-packages (from apache-beam->object-detection==0.1) (1.20.3)\n",
            "Requirement already satisfied: dill<0.3.2,>=0.3.1.1 in /usr/local/lib/python3.7/dist-packages (from apache-beam->object-detection==0.1) (0.3.1.1)\n",
            "Requirement already satisfied: pydot<2,>=1.2.0 in /usr/local/lib/python3.7/dist-packages (from apache-beam->object-detection==0.1) (1.3.0)\n",
            "Requirement already satisfied: crcmod<2.0,>=1.7 in /usr/local/lib/python3.7/dist-packages (from apache-beam->object-detection==0.1) (1.7)\n",
            "Requirement already satisfied: orjson<4.0 in /usr/local/lib/python3.7/dist-packages (from apache-beam->object-detection==0.1) (3.6.7)\n",
            "Requirement already satisfied: pymongo<4.0.0,>=3.8.0 in /usr/local/lib/python3.7/dist-packages (from apache-beam->object-detection==0.1) (3.12.3)\n",
            "Requirement already satisfied: fastavro<2,>=0.23.6 in /usr/local/lib/python3.7/dist-packages (from apache-beam->object-detection==0.1) (1.4.10)\n",
            "Requirement already satisfied: hdfs<3.0.0,>=2.1.0 in /usr/local/lib/python3.7/dist-packages (from apache-beam->object-detection==0.1) (2.7.0)\n",
            "Requirement already satisfied: cloudpickle<3,>=2.0.0 in /usr/local/lib/python3.7/dist-packages (from apache-beam->object-detection==0.1) (2.0.0)\n",
            "Requirement already satisfied: pyarrow<7.0.0,>=0.15.1 in /usr/local/lib/python3.7/dist-packages (from apache-beam->object-detection==0.1) (6.0.1)\n",
            "Requirement already satisfied: docopt in /usr/local/lib/python3.7/dist-packages (from hdfs<3.0.0,>=2.1.0->apache-beam->object-detection==0.1) (0.6.2)\n",
            "Requirement already satisfied: kiwisolver>=1.1.0 in /usr/local/lib/python3.7/dist-packages (from lvis->object-detection==0.1) (1.4.0)\n",
            "Requirement already satisfied: cycler>=0.10.0 in /usr/local/lib/python3.7/dist-packages (from lvis->object-detection==0.1) (0.11.0)\n",
            "Collecting opencv-python>=4.1.0.25\n",
            "  Downloading opencv_python-4.5.5.64-cp36-abi3-manylinux_2_17_x86_64.manylinux2014_x86_64.whl (60.5 MB)\n",
            "Requirement already satisfied: text-unidecode>=1.3 in /usr/local/lib/python3.7/dist-packages (from python-slugify->kaggle>=1.3.9->tf-models-official>=2.5.1->object-detection==0.1) (1.3)\n",
            "Requirement already satisfied: colorama in /usr/local/lib/python3.7/dist-packages (from sacrebleu->tf-models-official>=2.5.1->object-detection==0.1) (0.4.4)\n",
            "Requirement already satisfied: portalocker in /usr/local/lib/python3.7/dist-packages (from sacrebleu->tf-models-official>=2.5.1->object-detection==0.1) (2.4.0)\n",
            "Requirement already satisfied: regex in /usr/local/lib/python3.7/dist-packages (from sacrebleu->tf-models-official>=2.5.1->object-detection==0.1) (2019.12.20)\n",
            "Requirement already satisfied: tabulate>=0.8.9 in /usr/local/lib/python3.7/dist-packages (from sacrebleu->tf-models-official>=2.5.1->object-detection==0.1) (0.8.9)\n",
            "Requirement already satisfied: scikit-learn>=0.21.3 in /usr/local/lib/python3.7/dist-packages (from seqeval->tf-models-official>=2.5.1->object-detection==0.1) (1.0.2)\n",
            "Requirement already satisfied: threadpoolctl>=2.0.0 in /usr/local/lib/python3.7/dist-packages (from scikit-learn>=0.21.3->seqeval->tf-models-official>=2.5.1->object-detection==0.1) (3.1.0)\n",
            "Requirement already satisfied: joblib>=0.11 in /usr/local/lib/python3.7/dist-packages (from scikit-learn>=0.21.3->seqeval->tf-models-official>=2.5.1->object-detection==0.1) (1.1.0)\n",
            "Requirement already satisfied: typeguard>=2.7 in /usr/local/lib/python3.7/dist-packages (from tensorflow-addons->tf-models-official>=2.5.1->object-detection==0.1) (2.7.1)\n",
            "Requirement already satisfied: future in /usr/local/lib/python3.7/dist-packages (from tensorflow-datasets->tf-models-official>=2.5.1->object-detection==0.1) (0.16.0)\n",
            "Requirement already satisfied: tensorflow-metadata in /usr/local/lib/python3.7/dist-packages (from tensorflow-datasets->tf-models-official>=2.5.1->object-detection==0.1) (1.7.0)\n",
            "Requirement already satisfied: attrs>=18.1.0 in /usr/local/lib/python3.7/dist-packages (from tensorflow-datasets->tf-models-official>=2.5.1->object-detection==0.1) (21.4.0)\n",
            "Requirement already satisfied: importlib-resources in /usr/local/lib/python3.7/dist-packages (from tensorflow-datasets->tf-models-official>=2.5.1->object-detection==0.1) (5.4.0)\n",
            "Requirement already satisfied: promise in /usr/local/lib/python3.7/dist-packages (from tensorflow-datasets->tf-models-official>=2.5.1->object-detection==0.1) (2.3)\n",
            "Building wheels for collected packages: object-detection\n",
            "  Building wheel for object-detection (setup.py): started\n",
            "  Building wheel for object-detection (setup.py): finished with status 'done'\n",
            "  Created wheel for object-detection: filename=object_detection-0.1-py3-none-any.whl size=1206 sha256=070ab27f4d7afc7aa886809626cc661898d67ddc8b9e5232461d7ff70b7e2c3a\n",
            "  Stored in directory: /tmp/pip-ephem-wheel-cache-ez7a3ofa/wheels/33/f9/98/386a6efe0130c8af045e7b7795b99cf0b26c5e41b5c0f36fb5\n",
            "Successfully built object-detection\n",
            "Installing collected packages: opencv-python, object-detection\n",
            "  Attempting uninstall: object-detection\n",
            "    Found existing installation: object-detection 0.1\n",
            "    Uninstalling object-detection-0.1:\n",
            "      Successfully uninstalled object-detection-0.1\n",
            "Successfully installed object-detection-0.1 opencv-python-4.5.5.64\n"
          ]
        },
        {
          "output_type": "stream",
          "name": "stderr",
          "text": [
            "  DEPRECATION: A future pip version will change local packages to be built in-place without first copying to a temporary directory. We recommend you use --use-feature=in-tree-build to test your packages with this new behavior before it becomes the default.\n",
            "   pip 21.3 will remove support for this functionality. You can find discussion regarding this at https://github.com/pypa/pip/issues/7555.\n",
            "ERROR: pip's dependency resolver does not currently take into account all the packages that are installed. This behaviour is the source of the following dependency conflicts.\n",
            "albumentations 0.1.12 requires imgaug<0.2.7,>=0.2.5, but you have imgaug 0.2.9 which is incompatible.\n"
          ]
        }
      ]
    },
    {
      "cell_type": "code",
      "source": [
        "%cd models/research"
      ],
      "metadata": {
        "colab": {
          "base_uri": "https://localhost:8080/"
        },
        "id": "mXJ5qsTMI-c4",
        "outputId": "45bd054b-f324-4ec0-d27a-aab9f4245fa8"
      },
      "execution_count": null,
      "outputs": [
        {
          "output_type": "stream",
          "name": "stdout",
          "text": [
            "/content/drive/MyDrive/TF2/models/research\n"
          ]
        }
      ]
    },
    {
      "cell_type": "code",
      "source": [
        "!python xml_to_csv.py"
      ],
      "metadata": {
        "colab": {
          "base_uri": "https://localhost:8080/"
        },
        "id": "MZIrcqYZ1cM4",
        "outputId": "8f8519f4-d626-41e8-9859-315de9f41420"
      },
      "execution_count": null,
      "outputs": [
        {
          "output_type": "stream",
          "name": "stdout",
          "text": [
            "Successfully converted xml to csv.\n",
            "Successfully converted xml to csv.\n"
          ]
        }
      ]
    },
    {
      "cell_type": "code",
      "source": [
        "#for training data\n",
        "!python generate_tfrecord.py --csv_input=images/train_labels.csv --image_dir=images/train --output_path=train.record\n",
        "    \n",
        "#for validation data\n",
        "!python generate_tfrecord.py --csv_input=images/test_labels.csv --image_dir=images/test --output_path=test.record"
      ],
      "metadata": {
        "colab": {
          "base_uri": "https://localhost:8080/"
        },
        "id": "6dymh2Pg1saY",
        "outputId": "91655dbb-1de7-4e02-b8a7-d90822fceb53"
      },
      "execution_count": null,
      "outputs": [
        {
          "output_type": "stream",
          "name": "stdout",
          "text": [
            "Successfully created the TFRecords: /content/drive/MyDrive/TF2/models/research/train.record\n",
            "Successfully created the TFRecords: /content/drive/MyDrive/TF2/models/research/test.record\n"
          ]
        }
      ]
    },
    {
      "cell_type": "code",
      "source": [
        "!wget http://download.tensorflow.org/models/object_detection/tf2/20200711/ssd_resnet50_v1_fpn_640x640_coco17_tpu-8.tar.gz"
      ],
      "metadata": {
        "id": "Dh3zcaIlP9ER",
        "colab": {
          "base_uri": "https://localhost:8080/"
        },
        "outputId": "1a9cee62-4324-440c-80b3-bc0f2d090413"
      },
      "execution_count": null,
      "outputs": [
        {
          "output_type": "stream",
          "name": "stdout",
          "text": [
            "--2022-03-21 05:05:06--  http://download.tensorflow.org/models/object_detection/tf2/20200711/ssd_resnet50_v1_fpn_640x640_coco17_tpu-8.tar.gz\n",
            "Resolving download.tensorflow.org (download.tensorflow.org)... 142.250.136.128, 2607:f8b0:4001:c34::80\n",
            "Connecting to download.tensorflow.org (download.tensorflow.org)|142.250.136.128|:80... connected.\n",
            "HTTP request sent, awaiting response... 200 OK\n",
            "Length: 244817203 (233M) [application/x-tar]\n",
            "Saving to: ‘ssd_resnet50_v1_fpn_640x640_coco17_tpu-8.tar.gz’\n",
            "\n",
            "ssd_resnet50_v1_fpn 100%[===================>] 233.48M  50.4MB/s    in 4.4s    \n",
            "\n",
            "2022-03-21 05:05:11 (53.1 MB/s) - ‘ssd_resnet50_v1_fpn_640x640_coco17_tpu-8.tar.gz’ saved [244817203/244817203]\n",
            "\n"
          ]
        }
      ]
    },
    {
      "cell_type": "code",
      "source": [
        "!tar -xvf ssd_resnet50_v1_fpn_640x640_coco17_tpu-8.tar.gz"
      ],
      "metadata": {
        "colab": {
          "base_uri": "https://localhost:8080/"
        },
        "id": "5pbke4EW3VRP",
        "outputId": "369ce775-91c0-46d9-da03-4991fcb7e9e8"
      },
      "execution_count": null,
      "outputs": [
        {
          "output_type": "stream",
          "name": "stdout",
          "text": [
            "ssd_resnet50_v1_fpn_640x640_coco17_tpu-8/\n",
            "ssd_resnet50_v1_fpn_640x640_coco17_tpu-8/checkpoint/\n",
            "ssd_resnet50_v1_fpn_640x640_coco17_tpu-8/checkpoint/ckpt-0.data-00000-of-00001\n",
            "ssd_resnet50_v1_fpn_640x640_coco17_tpu-8/checkpoint/checkpoint\n",
            "ssd_resnet50_v1_fpn_640x640_coco17_tpu-8/checkpoint/ckpt-0.index\n",
            "ssd_resnet50_v1_fpn_640x640_coco17_tpu-8/pipeline.config\n",
            "ssd_resnet50_v1_fpn_640x640_coco17_tpu-8/saved_model/\n",
            "ssd_resnet50_v1_fpn_640x640_coco17_tpu-8/saved_model/saved_model.pb\n",
            "ssd_resnet50_v1_fpn_640x640_coco17_tpu-8/saved_model/assets/\n",
            "ssd_resnet50_v1_fpn_640x640_coco17_tpu-8/saved_model/variables/\n",
            "ssd_resnet50_v1_fpn_640x640_coco17_tpu-8/saved_model/variables/variables.data-00000-of-00001\n",
            "ssd_resnet50_v1_fpn_640x640_coco17_tpu-8/saved_model/variables/variables.index\n"
          ]
        }
      ]
    },
    {
      "cell_type": "code",
      "source": [
        "!mv ssd_resnet50_v1_fpn_640x640_coco17_tpu-8/pipeline.config /content/drive/MyDrive/TF2/models/research/training"
      ],
      "metadata": {
        "id": "O_qTh2gU3nvD"
      },
      "execution_count": null,
      "outputs": []
    },
    {
      "cell_type": "code",
      "source": [
        "pwd"
      ],
      "metadata": {
        "colab": {
          "base_uri": "https://localhost:8080/",
          "height": 36
        },
        "id": "2wPjOuyMkpBR",
        "outputId": "dfe160c8-762b-4a59-abc8-c61d7fc8dd09"
      },
      "execution_count": null,
      "outputs": [
        {
          "output_type": "execute_result",
          "data": {
            "text/plain": [
              "'/content/drive/MyDrive/TF2/models/research'"
            ],
            "application/vnd.google.colaboratory.intrinsic+json": {
              "type": "string"
            }
          },
          "metadata": {},
          "execution_count": 28
        }
      ]
    },
    {
      "cell_type": "code",
      "source": [
        "%cd /content/drive/MyDrive/TF2/models/research"
      ],
      "metadata": {
        "colab": {
          "base_uri": "https://localhost:8080/"
        },
        "id": "iZ0AX_wbk-yt",
        "outputId": "cdc348e0-85b9-47aa-af51-d773126709f3"
      },
      "execution_count": null,
      "outputs": [
        {
          "output_type": "stream",
          "name": "stdout",
          "text": [
            "/content/drive/MyDrive/TF2/models/research\n"
          ]
        }
      ]
    },
    {
      "cell_type": "code",
      "source": [
        "!python model_main_tf2.py --model_dir-training/my_model --pipeline_config_path-training/pipeline.config"
      ],
      "metadata": {
        "id": "lFwSJPuM5IwZ",
        "colab": {
          "base_uri": "https://localhost:8080/"
        },
        "outputId": "924a69c3-0684-473f-8ff4-46bb4d562cb5"
      },
      "execution_count": null,
      "outputs": [
        {
          "output_type": "stream",
          "name": "stdout",
          "text": [
            "Traceback (most recent call last):\n",
            "  File \"model_main_tf2.py\", line 32, in <module>\n",
            "    from object_detection import model_lib_v2\n",
            "ModuleNotFoundError: No module named 'object_detection'\n"
          ]
        }
      ]
    },
    {
      "cell_type": "code",
      "source": [
        "!python model_main_tf2.py --model_dir=models/my_model --pipeline_config_path=training/pipeline.config\n"
      ],
      "metadata": {
        "colab": {
          "base_uri": "https://localhost:8080/"
        },
        "id": "dTuIlePnkk_i",
        "outputId": "30b2b060-ff42-4b28-8fdd-d0f3310c8100"
      },
      "execution_count": null,
      "outputs": [
        {
          "output_type": "stream",
          "name": "stdout",
          "text": [
            "2022-04-01 10:38:30.124371: W tensorflow/core/common_runtime/gpu/gpu_bfc_allocator.cc:39] Overriding allow_growth setting because the TF_FORCE_GPU_ALLOW_GROWTH environment variable is set. Original config value was 0.\n",
            "INFO:tensorflow:Using MirroredStrategy with devices ('/job:localhost/replica:0/task:0/device:GPU:0',)\n",
            "I0401 10:38:30.131910 140098221348736 mirrored_strategy.py:374] Using MirroredStrategy with devices ('/job:localhost/replica:0/task:0/device:GPU:0',)\n",
            "INFO:tensorflow:Maybe overwriting train_steps: None\n",
            "I0401 10:38:30.140204 140098221348736 config_util.py:552] Maybe overwriting train_steps: None\n",
            "INFO:tensorflow:Maybe overwriting use_bfloat16: False\n",
            "I0401 10:38:30.140405 140098221348736 config_util.py:552] Maybe overwriting use_bfloat16: False\n",
            "WARNING:tensorflow:From /content/drive/MyDrive/TF2/models/research/object_detection/model_lib_v2.py:564: StrategyBase.experimental_distribute_datasets_from_function (from tensorflow.python.distribute.distribute_lib) is deprecated and will be removed in a future version.\n",
            "Instructions for updating:\n",
            "rename to distribute_datasets_from_function\n",
            "W0401 10:38:30.169366 140098221348736 deprecation.py:343] From /content/drive/MyDrive/TF2/models/research/object_detection/model_lib_v2.py:564: StrategyBase.experimental_distribute_datasets_from_function (from tensorflow.python.distribute.distribute_lib) is deprecated and will be removed in a future version.\n",
            "Instructions for updating:\n",
            "rename to distribute_datasets_from_function\n",
            "INFO:tensorflow:Reading unweighted datasets: ['train.record']\n",
            "I0401 10:38:30.181397 140098221348736 dataset_builder.py:163] Reading unweighted datasets: ['train.record']\n",
            "INFO:tensorflow:Reading record datasets for input file: ['train.record']\n",
            "I0401 10:38:30.181856 140098221348736 dataset_builder.py:80] Reading record datasets for input file: ['train.record']\n",
            "INFO:tensorflow:Number of filenames to read: 1\n",
            "I0401 10:38:30.182025 140098221348736 dataset_builder.py:81] Number of filenames to read: 1\n",
            "WARNING:tensorflow:num_readers has been reduced to 1 to match input file shards.\n",
            "W0401 10:38:30.182193 140098221348736 dataset_builder.py:88] num_readers has been reduced to 1 to match input file shards.\n",
            "WARNING:tensorflow:From /content/drive/MyDrive/TF2/models/research/object_detection/builders/dataset_builder.py:105: parallel_interleave (from tensorflow.python.data.experimental.ops.interleave_ops) is deprecated and will be removed in a future version.\n",
            "Instructions for updating:\n",
            "Use `tf.data.Dataset.interleave(map_func, cycle_length, block_length, num_parallel_calls=tf.data.AUTOTUNE)` instead. If sloppy execution is desired, use `tf.data.Options.deterministic`.\n",
            "W0401 10:38:30.185108 140098221348736 deprecation.py:343] From /content/drive/MyDrive/TF2/models/research/object_detection/builders/dataset_builder.py:105: parallel_interleave (from tensorflow.python.data.experimental.ops.interleave_ops) is deprecated and will be removed in a future version.\n",
            "Instructions for updating:\n",
            "Use `tf.data.Dataset.interleave(map_func, cycle_length, block_length, num_parallel_calls=tf.data.AUTOTUNE)` instead. If sloppy execution is desired, use `tf.data.Options.deterministic`.\n",
            "WARNING:tensorflow:From /content/drive/MyDrive/TF2/models/research/object_detection/builders/dataset_builder.py:237: DatasetV1.map_with_legacy_function (from tensorflow.python.data.ops.dataset_ops) is deprecated and will be removed in a future version.\n",
            "Instructions for updating:\n",
            "Use `tf.data.Dataset.map()\n",
            "W0401 10:38:30.209980 140098221348736 deprecation.py:343] From /content/drive/MyDrive/TF2/models/research/object_detection/builders/dataset_builder.py:237: DatasetV1.map_with_legacy_function (from tensorflow.python.data.ops.dataset_ops) is deprecated and will be removed in a future version.\n",
            "Instructions for updating:\n",
            "Use `tf.data.Dataset.map()\n",
            "WARNING:tensorflow:From /usr/local/lib/python3.7/dist-packages/tensorflow/python/util/dispatch.py:1082: sparse_to_dense (from tensorflow.python.ops.sparse_ops) is deprecated and will be removed in a future version.\n",
            "Instructions for updating:\n",
            "Create a `tf.sparse.SparseTensor` and use `tf.sparse.to_dense` instead.\n",
            "W0401 10:38:38.634960 140098221348736 deprecation.py:343] From /usr/local/lib/python3.7/dist-packages/tensorflow/python/util/dispatch.py:1082: sparse_to_dense (from tensorflow.python.ops.sparse_ops) is deprecated and will be removed in a future version.\n",
            "Instructions for updating:\n",
            "Create a `tf.sparse.SparseTensor` and use `tf.sparse.to_dense` instead.\n",
            "WARNING:tensorflow:From /usr/local/lib/python3.7/dist-packages/tensorflow/python/util/dispatch.py:1082: sample_distorted_bounding_box (from tensorflow.python.ops.image_ops_impl) is deprecated and will be removed in a future version.\n",
            "Instructions for updating:\n",
            "`seed2` arg is deprecated.Use sample_distorted_bounding_box_v2 instead.\n",
            "W0401 10:38:42.269489 140098221348736 deprecation.py:343] From /usr/local/lib/python3.7/dist-packages/tensorflow/python/util/dispatch.py:1082: sample_distorted_bounding_box (from tensorflow.python.ops.image_ops_impl) is deprecated and will be removed in a future version.\n",
            "Instructions for updating:\n",
            "`seed2` arg is deprecated.Use sample_distorted_bounding_box_v2 instead.\n",
            "WARNING:tensorflow:From /usr/local/lib/python3.7/dist-packages/tensorflow/python/util/dispatch.py:1082: to_float (from tensorflow.python.ops.math_ops) is deprecated and will be removed in a future version.\n",
            "Instructions for updating:\n",
            "Use `tf.cast` instead.\n",
            "W0401 10:38:44.355134 140098221348736 deprecation.py:343] From /usr/local/lib/python3.7/dist-packages/tensorflow/python/util/dispatch.py:1082: to_float (from tensorflow.python.ops.math_ops) is deprecated and will be removed in a future version.\n",
            "Instructions for updating:\n",
            "Use `tf.cast` instead.\n",
            "/usr/local/lib/python3.7/dist-packages/keras/backend.py:450: UserWarning: `tf.keras.backend.set_learning_phase` is deprecated and will be removed after 2020-10-11. To update it, simply pass a True/False value to the `training` argument of the `__call__` method of your layer or model.\n",
            "  warnings.warn('`tf.keras.backend.set_learning_phase` is deprecated and '\n",
            "INFO:tensorflow:Reduce to /job:localhost/replica:0/task:0/device:CPU:0 then broadcast to ('/job:localhost/replica:0/task:0/device:CPU:0',).\n",
            "I0401 10:39:17.676766 140098221348736 cross_device_ops.py:618] Reduce to /job:localhost/replica:0/task:0/device:CPU:0 then broadcast to ('/job:localhost/replica:0/task:0/device:CPU:0',).\n",
            "INFO:tensorflow:Reduce to /job:localhost/replica:0/task:0/device:CPU:0 then broadcast to ('/job:localhost/replica:0/task:0/device:CPU:0',).\n",
            "I0401 10:39:17.678349 140098221348736 cross_device_ops.py:618] Reduce to /job:localhost/replica:0/task:0/device:CPU:0 then broadcast to ('/job:localhost/replica:0/task:0/device:CPU:0',).\n",
            "INFO:tensorflow:Reduce to /job:localhost/replica:0/task:0/device:CPU:0 then broadcast to ('/job:localhost/replica:0/task:0/device:CPU:0',).\n",
            "I0401 10:39:17.681591 140098221348736 cross_device_ops.py:618] Reduce to /job:localhost/replica:0/task:0/device:CPU:0 then broadcast to ('/job:localhost/replica:0/task:0/device:CPU:0',).\n",
            "INFO:tensorflow:Reduce to /job:localhost/replica:0/task:0/device:CPU:0 then broadcast to ('/job:localhost/replica:0/task:0/device:CPU:0',).\n",
            "I0401 10:39:17.682822 140098221348736 cross_device_ops.py:618] Reduce to /job:localhost/replica:0/task:0/device:CPU:0 then broadcast to ('/job:localhost/replica:0/task:0/device:CPU:0',).\n",
            "INFO:tensorflow:Reduce to /job:localhost/replica:0/task:0/device:CPU:0 then broadcast to ('/job:localhost/replica:0/task:0/device:CPU:0',).\n",
            "I0401 10:39:17.685905 140098221348736 cross_device_ops.py:618] Reduce to /job:localhost/replica:0/task:0/device:CPU:0 then broadcast to ('/job:localhost/replica:0/task:0/device:CPU:0',).\n",
            "INFO:tensorflow:Reduce to /job:localhost/replica:0/task:0/device:CPU:0 then broadcast to ('/job:localhost/replica:0/task:0/device:CPU:0',).\n",
            "I0401 10:39:17.687067 140098221348736 cross_device_ops.py:618] Reduce to /job:localhost/replica:0/task:0/device:CPU:0 then broadcast to ('/job:localhost/replica:0/task:0/device:CPU:0',).\n",
            "INFO:tensorflow:Reduce to /job:localhost/replica:0/task:0/device:CPU:0 then broadcast to ('/job:localhost/replica:0/task:0/device:CPU:0',).\n",
            "I0401 10:39:17.690603 140098221348736 cross_device_ops.py:618] Reduce to /job:localhost/replica:0/task:0/device:CPU:0 then broadcast to ('/job:localhost/replica:0/task:0/device:CPU:0',).\n",
            "INFO:tensorflow:Reduce to /job:localhost/replica:0/task:0/device:CPU:0 then broadcast to ('/job:localhost/replica:0/task:0/device:CPU:0',).\n",
            "I0401 10:39:17.691763 140098221348736 cross_device_ops.py:618] Reduce to /job:localhost/replica:0/task:0/device:CPU:0 then broadcast to ('/job:localhost/replica:0/task:0/device:CPU:0',).\n",
            "INFO:tensorflow:Reduce to /job:localhost/replica:0/task:0/device:CPU:0 then broadcast to ('/job:localhost/replica:0/task:0/device:CPU:0',).\n",
            "I0401 10:39:17.694202 140098221348736 cross_device_ops.py:618] Reduce to /job:localhost/replica:0/task:0/device:CPU:0 then broadcast to ('/job:localhost/replica:0/task:0/device:CPU:0',).\n",
            "INFO:tensorflow:Reduce to /job:localhost/replica:0/task:0/device:CPU:0 then broadcast to ('/job:localhost/replica:0/task:0/device:CPU:0',).\n",
            "I0401 10:39:17.695431 140098221348736 cross_device_ops.py:618] Reduce to /job:localhost/replica:0/task:0/device:CPU:0 then broadcast to ('/job:localhost/replica:0/task:0/device:CPU:0',).\n",
            "WARNING:tensorflow:From /usr/local/lib/python3.7/dist-packages/tensorflow/python/util/deprecation.py:616: calling map_fn_v2 (from tensorflow.python.ops.map_fn) with dtype is deprecated and will be removed in a future version.\n",
            "Instructions for updating:\n",
            "Use fn_output_signature instead\n",
            "W0401 10:39:19.441596 140093357987584 deprecation.py:547] From /usr/local/lib/python3.7/dist-packages/tensorflow/python/util/deprecation.py:616: calling map_fn_v2 (from tensorflow.python.ops.map_fn) with dtype is deprecated and will be removed in a future version.\n",
            "Instructions for updating:\n",
            "Use fn_output_signature instead\n",
            "INFO:tensorflow:Step 100 per-step time 1.997s\n",
            "I0401 10:42:38.937712 140098221348736 model_lib_v2.py:707] Step 100 per-step time 1.997s\n",
            "INFO:tensorflow:{'Loss/classification_loss': 0.40343413,\n",
            " 'Loss/localization_loss': 0.12495078,\n",
            " 'Loss/regularization_loss': 0.25826293,\n",
            " 'Loss/total_loss': 0.78664786,\n",
            " 'learning_rate': 0.014666351}\n",
            "I0401 10:42:38.938122 140098221348736 model_lib_v2.py:708] {'Loss/classification_loss': 0.40343413,\n",
            " 'Loss/localization_loss': 0.12495078,\n",
            " 'Loss/regularization_loss': 0.25826293,\n",
            " 'Loss/total_loss': 0.78664786,\n",
            " 'learning_rate': 0.014666351}\n",
            "INFO:tensorflow:Step 200 per-step time 1.550s\n",
            "I0401 10:45:13.737502 140098221348736 model_lib_v2.py:707] Step 200 per-step time 1.550s\n",
            "INFO:tensorflow:{'Loss/classification_loss': 0.31611982,\n",
            " 'Loss/localization_loss': 0.17810388,\n",
            " 'Loss/regularization_loss': 0.26501256,\n",
            " 'Loss/total_loss': 0.7592363,\n",
            " 'learning_rate': 0.0159997}\n",
            "I0401 10:45:13.737883 140098221348736 model_lib_v2.py:708] {'Loss/classification_loss': 0.31611982,\n",
            " 'Loss/localization_loss': 0.17810388,\n",
            " 'Loss/regularization_loss': 0.26501256,\n",
            " 'Loss/total_loss': 0.7592363,\n",
            " 'learning_rate': 0.0159997}\n",
            "INFO:tensorflow:Step 300 per-step time 1.545s\n",
            "I0401 10:47:48.258937 140098221348736 model_lib_v2.py:707] Step 300 per-step time 1.545s\n",
            "INFO:tensorflow:{'Loss/classification_loss': 0.41446212,\n",
            " 'Loss/localization_loss': 0.13323925,\n",
            " 'Loss/regularization_loss': 0.26515245,\n",
            " 'Loss/total_loss': 0.8128538,\n",
            " 'learning_rate': 0.01733305}\n",
            "I0401 10:47:48.259309 140098221348736 model_lib_v2.py:708] {'Loss/classification_loss': 0.41446212,\n",
            " 'Loss/localization_loss': 0.13323925,\n",
            " 'Loss/regularization_loss': 0.26515245,\n",
            " 'Loss/total_loss': 0.8128538,\n",
            " 'learning_rate': 0.01733305}\n",
            "INFO:tensorflow:Step 400 per-step time 1.547s\n",
            "I0401 10:50:22.994619 140098221348736 model_lib_v2.py:707] Step 400 per-step time 1.547s\n",
            "INFO:tensorflow:{'Loss/classification_loss': 0.29629648,\n",
            " 'Loss/localization_loss': 0.064214304,\n",
            " 'Loss/regularization_loss': 0.26480108,\n",
            " 'Loss/total_loss': 0.62531185,\n",
            " 'learning_rate': 0.0186664}\n",
            "I0401 10:50:22.995209 140098221348736 model_lib_v2.py:708] {'Loss/classification_loss': 0.29629648,\n",
            " 'Loss/localization_loss': 0.064214304,\n",
            " 'Loss/regularization_loss': 0.26480108,\n",
            " 'Loss/total_loss': 0.62531185,\n",
            " 'learning_rate': 0.0186664}\n",
            "INFO:tensorflow:Step 500 per-step time 1.546s\n",
            "I0401 10:52:57.542885 140098221348736 model_lib_v2.py:707] Step 500 per-step time 1.546s\n",
            "INFO:tensorflow:{'Loss/classification_loss': 0.27050722,\n",
            " 'Loss/localization_loss': 0.04982794,\n",
            " 'Loss/regularization_loss': 0.26385453,\n",
            " 'Loss/total_loss': 0.58418965,\n",
            " 'learning_rate': 0.01999975}\n",
            "I0401 10:52:57.543229 140098221348736 model_lib_v2.py:708] {'Loss/classification_loss': 0.27050722,\n",
            " 'Loss/localization_loss': 0.04982794,\n",
            " 'Loss/regularization_loss': 0.26385453,\n",
            " 'Loss/total_loss': 0.58418965,\n",
            " 'learning_rate': 0.01999975}\n",
            "INFO:tensorflow:Step 600 per-step time 1.548s\n",
            "I0401 10:55:32.370143 140098221348736 model_lib_v2.py:707] Step 600 per-step time 1.548s\n",
            "INFO:tensorflow:{'Loss/classification_loss': 0.31235746,\n",
            " 'Loss/localization_loss': 0.06318492,\n",
            " 'Loss/regularization_loss': 0.2618808,\n",
            " 'Loss/total_loss': 0.63742316,\n",
            " 'learning_rate': 0.0213331}\n",
            "I0401 10:55:32.370530 140098221348736 model_lib_v2.py:708] {'Loss/classification_loss': 0.31235746,\n",
            " 'Loss/localization_loss': 0.06318492,\n",
            " 'Loss/regularization_loss': 0.2618808,\n",
            " 'Loss/total_loss': 0.63742316,\n",
            " 'learning_rate': 0.0213331}\n",
            "INFO:tensorflow:Step 700 per-step time 1.547s\n",
            "I0401 10:58:07.123425 140098221348736 model_lib_v2.py:707] Step 700 per-step time 1.547s\n",
            "INFO:tensorflow:{'Loss/classification_loss': 0.3015051,\n",
            " 'Loss/localization_loss': 0.08165162,\n",
            " 'Loss/regularization_loss': 0.26038224,\n",
            " 'Loss/total_loss': 0.64353895,\n",
            " 'learning_rate': 0.02266645}\n",
            "I0401 10:58:07.123829 140098221348736 model_lib_v2.py:708] {'Loss/classification_loss': 0.3015051,\n",
            " 'Loss/localization_loss': 0.08165162,\n",
            " 'Loss/regularization_loss': 0.26038224,\n",
            " 'Loss/total_loss': 0.64353895,\n",
            " 'learning_rate': 0.02266645}\n",
            "INFO:tensorflow:Step 800 per-step time 1.545s\n",
            "I0401 11:00:41.586415 140098221348736 model_lib_v2.py:707] Step 800 per-step time 1.545s\n",
            "INFO:tensorflow:{'Loss/classification_loss': 0.25795972,\n",
            " 'Loss/localization_loss': 0.055653337,\n",
            " 'Loss/regularization_loss': 0.25896773,\n",
            " 'Loss/total_loss': 0.5725808,\n",
            " 'learning_rate': 0.023999799}\n",
            "I0401 11:00:41.586812 140098221348736 model_lib_v2.py:708] {'Loss/classification_loss': 0.25795972,\n",
            " 'Loss/localization_loss': 0.055653337,\n",
            " 'Loss/regularization_loss': 0.25896773,\n",
            " 'Loss/total_loss': 0.5725808,\n",
            " 'learning_rate': 0.023999799}\n",
            "INFO:tensorflow:Step 900 per-step time 1.548s\n",
            "I0401 11:03:16.374324 140098221348736 model_lib_v2.py:707] Step 900 per-step time 1.548s\n",
            "INFO:tensorflow:{'Loss/classification_loss': 0.25798023,\n",
            " 'Loss/localization_loss': 0.06178765,\n",
            " 'Loss/regularization_loss': 0.25710085,\n",
            " 'Loss/total_loss': 0.5768688,\n",
            " 'learning_rate': 0.025333151}\n",
            "I0401 11:03:16.374675 140098221348736 model_lib_v2.py:708] {'Loss/classification_loss': 0.25798023,\n",
            " 'Loss/localization_loss': 0.06178765,\n",
            " 'Loss/regularization_loss': 0.25710085,\n",
            " 'Loss/total_loss': 0.5768688,\n",
            " 'learning_rate': 0.025333151}\n",
            "INFO:tensorflow:Step 1000 per-step time 1.546s\n",
            "I0401 11:05:51.007171 140098221348736 model_lib_v2.py:707] Step 1000 per-step time 1.546s\n",
            "INFO:tensorflow:{'Loss/classification_loss': 0.23831359,\n",
            " 'Loss/localization_loss': 0.0315708,\n",
            " 'Loss/regularization_loss': 0.25483572,\n",
            " 'Loss/total_loss': 0.5247201,\n",
            " 'learning_rate': 0.0266665}\n",
            "I0401 11:05:51.007561 140098221348736 model_lib_v2.py:708] {'Loss/classification_loss': 0.23831359,\n",
            " 'Loss/localization_loss': 0.0315708,\n",
            " 'Loss/regularization_loss': 0.25483572,\n",
            " 'Loss/total_loss': 0.5247201,\n",
            " 'learning_rate': 0.0266665}\n",
            "INFO:tensorflow:Step 1100 per-step time 1.567s\n",
            "I0401 11:08:27.655531 140098221348736 model_lib_v2.py:707] Step 1100 per-step time 1.567s\n",
            "INFO:tensorflow:{'Loss/classification_loss': 0.3002702,\n",
            " 'Loss/localization_loss': 0.038051307,\n",
            " 'Loss/regularization_loss': 0.2517914,\n",
            " 'Loss/total_loss': 0.5901129,\n",
            " 'learning_rate': 0.02799985}\n",
            "I0401 11:08:27.655937 140098221348736 model_lib_v2.py:708] {'Loss/classification_loss': 0.3002702,\n",
            " 'Loss/localization_loss': 0.038051307,\n",
            " 'Loss/regularization_loss': 0.2517914,\n",
            " 'Loss/total_loss': 0.5901129,\n",
            " 'learning_rate': 0.02799985}\n",
            "INFO:tensorflow:Step 1200 per-step time 1.574s\n",
            "I0401 11:11:05.026443 140098221348736 model_lib_v2.py:707] Step 1200 per-step time 1.574s\n",
            "INFO:tensorflow:{'Loss/classification_loss': 0.2899698,\n",
            " 'Loss/localization_loss': 0.05968564,\n",
            " 'Loss/regularization_loss': 0.24990366,\n",
            " 'Loss/total_loss': 0.5995591,\n",
            " 'learning_rate': 0.0293332}\n",
            "I0401 11:11:05.026818 140098221348736 model_lib_v2.py:708] {'Loss/classification_loss': 0.2899698,\n",
            " 'Loss/localization_loss': 0.05968564,\n",
            " 'Loss/regularization_loss': 0.24990366,\n",
            " 'Loss/total_loss': 0.5995591,\n",
            " 'learning_rate': 0.0293332}\n",
            "INFO:tensorflow:Step 1300 per-step time 1.575s\n",
            "I0401 11:13:42.488004 140098221348736 model_lib_v2.py:707] Step 1300 per-step time 1.575s\n",
            "INFO:tensorflow:{'Loss/classification_loss': 0.2719997,\n",
            " 'Loss/localization_loss': 0.028760042,\n",
            " 'Loss/regularization_loss': 0.24882062,\n",
            " 'Loss/total_loss': 0.54958034,\n",
            " 'learning_rate': 0.03066655}\n",
            "I0401 11:13:42.488413 140098221348736 model_lib_v2.py:708] {'Loss/classification_loss': 0.2719997,\n",
            " 'Loss/localization_loss': 0.028760042,\n",
            " 'Loss/regularization_loss': 0.24882062,\n",
            " 'Loss/total_loss': 0.54958034,\n",
            " 'learning_rate': 0.03066655}\n",
            "INFO:tensorflow:Step 1400 per-step time 1.576s\n",
            "I0401 11:16:20.113097 140098221348736 model_lib_v2.py:707] Step 1400 per-step time 1.576s\n",
            "INFO:tensorflow:{'Loss/classification_loss': 0.19712654,\n",
            " 'Loss/localization_loss': 0.042862263,\n",
            " 'Loss/regularization_loss': 0.25036883,\n",
            " 'Loss/total_loss': 0.49035764,\n",
            " 'learning_rate': 0.0319999}\n",
            "I0401 11:16:20.113516 140098221348736 model_lib_v2.py:708] {'Loss/classification_loss': 0.19712654,\n",
            " 'Loss/localization_loss': 0.042862263,\n",
            " 'Loss/regularization_loss': 0.25036883,\n",
            " 'Loss/total_loss': 0.49035764,\n",
            " 'learning_rate': 0.0319999}\n",
            "INFO:tensorflow:Step 1500 per-step time 1.574s\n",
            "I0401 11:18:57.523451 140098221348736 model_lib_v2.py:707] Step 1500 per-step time 1.574s\n",
            "INFO:tensorflow:{'Loss/classification_loss': 0.21110705,\n",
            " 'Loss/localization_loss': 0.041937526,\n",
            " 'Loss/regularization_loss': 0.25088045,\n",
            " 'Loss/total_loss': 0.503925,\n",
            " 'learning_rate': 0.03333325}\n",
            "I0401 11:18:57.523893 140098221348736 model_lib_v2.py:708] {'Loss/classification_loss': 0.21110705,\n",
            " 'Loss/localization_loss': 0.041937526,\n",
            " 'Loss/regularization_loss': 0.25088045,\n",
            " 'Loss/total_loss': 0.503925,\n",
            " 'learning_rate': 0.03333325}\n",
            "INFO:tensorflow:Step 1600 per-step time 1.574s\n",
            "I0401 11:21:34.950986 140098221348736 model_lib_v2.py:707] Step 1600 per-step time 1.574s\n",
            "INFO:tensorflow:{'Loss/classification_loss': 0.17643656,\n",
            " 'Loss/localization_loss': 0.044004697,\n",
            " 'Loss/regularization_loss': 0.24976197,\n",
            " 'Loss/total_loss': 0.47020322,\n",
            " 'learning_rate': 0.034666598}\n",
            "I0401 11:21:34.951520 140098221348736 model_lib_v2.py:708] {'Loss/classification_loss': 0.17643656,\n",
            " 'Loss/localization_loss': 0.044004697,\n",
            " 'Loss/regularization_loss': 0.24976197,\n",
            " 'Loss/total_loss': 0.47020322,\n",
            " 'learning_rate': 0.034666598}\n",
            "INFO:tensorflow:Step 1700 per-step time 1.578s\n",
            "I0401 11:24:12.779458 140098221348736 model_lib_v2.py:707] Step 1700 per-step time 1.578s\n",
            "INFO:tensorflow:{'Loss/classification_loss': 0.18524711,\n",
            " 'Loss/localization_loss': 0.029245343,\n",
            " 'Loss/regularization_loss': 0.24932504,\n",
            " 'Loss/total_loss': 0.46381748,\n",
            " 'learning_rate': 0.03599995}\n",
            "I0401 11:24:12.779833 140098221348736 model_lib_v2.py:708] {'Loss/classification_loss': 0.18524711,\n",
            " 'Loss/localization_loss': 0.029245343,\n",
            " 'Loss/regularization_loss': 0.24932504,\n",
            " 'Loss/total_loss': 0.46381748,\n",
            " 'learning_rate': 0.03599995}\n",
            "INFO:tensorflow:Step 1800 per-step time 1.572s\n",
            "I0401 11:26:50.018862 140098221348736 model_lib_v2.py:707] Step 1800 per-step time 1.572s\n",
            "INFO:tensorflow:{'Loss/classification_loss': 0.14450613,\n",
            " 'Loss/localization_loss': 0.039716452,\n",
            " 'Loss/regularization_loss': 0.25045493,\n",
            " 'Loss/total_loss': 0.4346775,\n",
            " 'learning_rate': 0.037333302}\n",
            "I0401 11:26:50.019294 140098221348736 model_lib_v2.py:708] {'Loss/classification_loss': 0.14450613,\n",
            " 'Loss/localization_loss': 0.039716452,\n",
            " 'Loss/regularization_loss': 0.25045493,\n",
            " 'Loss/total_loss': 0.4346775,\n",
            " 'learning_rate': 0.037333302}\n",
            "INFO:tensorflow:Step 1900 per-step time 1.575s\n",
            "I0401 11:29:27.474000 140098221348736 model_lib_v2.py:707] Step 1900 per-step time 1.575s\n",
            "INFO:tensorflow:{'Loss/classification_loss': 0.15996136,\n",
            " 'Loss/localization_loss': 0.028842524,\n",
            " 'Loss/regularization_loss': 0.2502287,\n",
            " 'Loss/total_loss': 0.43903258,\n",
            " 'learning_rate': 0.03866665}\n",
            "I0401 11:29:27.474369 140098221348736 model_lib_v2.py:708] {'Loss/classification_loss': 0.15996136,\n",
            " 'Loss/localization_loss': 0.028842524,\n",
            " 'Loss/regularization_loss': 0.2502287,\n",
            " 'Loss/total_loss': 0.43903258,\n",
            " 'learning_rate': 0.03866665}\n",
            "INFO:tensorflow:Step 2000 per-step time 1.557s\n",
            "I0401 11:32:03.191848 140098221348736 model_lib_v2.py:707] Step 2000 per-step time 1.557s\n",
            "INFO:tensorflow:{'Loss/classification_loss': 0.2813951,\n",
            " 'Loss/localization_loss': 0.061088264,\n",
            " 'Loss/regularization_loss': 0.25167316,\n",
            " 'Loss/total_loss': 0.5941565,\n",
            " 'learning_rate': 0.04}\n",
            "I0401 11:32:03.192191 140098221348736 model_lib_v2.py:708] {'Loss/classification_loss': 0.2813951,\n",
            " 'Loss/localization_loss': 0.061088264,\n",
            " 'Loss/regularization_loss': 0.25167316,\n",
            " 'Loss/total_loss': 0.5941565,\n",
            " 'learning_rate': 0.04}\n",
            "INFO:tensorflow:Step 2100 per-step time 1.568s\n",
            "I0401 11:34:40.012151 140098221348736 model_lib_v2.py:707] Step 2100 per-step time 1.568s\n",
            "INFO:tensorflow:{'Loss/classification_loss': 0.19946185,\n",
            " 'Loss/localization_loss': 0.07157083,\n",
            " 'Loss/regularization_loss': 0.24774532,\n",
            " 'Loss/total_loss': 0.518778,\n",
            " 'learning_rate': 0.039998136}\n",
            "I0401 11:34:40.012544 140098221348736 model_lib_v2.py:708] {'Loss/classification_loss': 0.19946185,\n",
            " 'Loss/localization_loss': 0.07157083,\n",
            " 'Loss/regularization_loss': 0.24774532,\n",
            " 'Loss/total_loss': 0.518778,\n",
            " 'learning_rate': 0.039998136}\n",
            "INFO:tensorflow:Step 2200 per-step time 1.553s\n",
            "I0401 11:37:15.301335 140098221348736 model_lib_v2.py:707] Step 2200 per-step time 1.553s\n",
            "INFO:tensorflow:{'Loss/classification_loss': 0.2817528,\n",
            " 'Loss/localization_loss': 0.07559009,\n",
            " 'Loss/regularization_loss': 0.24533094,\n",
            " 'Loss/total_loss': 0.6026738,\n",
            " 'learning_rate': 0.039992537}\n",
            "I0401 11:37:15.301739 140098221348736 model_lib_v2.py:708] {'Loss/classification_loss': 0.2817528,\n",
            " 'Loss/localization_loss': 0.07559009,\n",
            " 'Loss/regularization_loss': 0.24533094,\n",
            " 'Loss/total_loss': 0.6026738,\n",
            " 'learning_rate': 0.039992537}\n",
            "INFO:tensorflow:Step 2300 per-step time 1.571s\n",
            "I0401 11:39:52.438664 140098221348736 model_lib_v2.py:707] Step 2300 per-step time 1.571s\n",
            "INFO:tensorflow:{'Loss/classification_loss': 0.20533846,\n",
            " 'Loss/localization_loss': 0.047266554,\n",
            " 'Loss/regularization_loss': 0.24257874,\n",
            " 'Loss/total_loss': 0.49518377,\n",
            " 'learning_rate': 0.03998321}\n",
            "I0401 11:39:52.439029 140098221348736 model_lib_v2.py:708] {'Loss/classification_loss': 0.20533846,\n",
            " 'Loss/localization_loss': 0.047266554,\n",
            " 'Loss/regularization_loss': 0.24257874,\n",
            " 'Loss/total_loss': 0.49518377,\n",
            " 'learning_rate': 0.03998321}\n",
            "INFO:tensorflow:Step 2400 per-step time 1.577s\n",
            "I0401 11:42:30.139070 140098221348736 model_lib_v2.py:707] Step 2400 per-step time 1.577s\n",
            "INFO:tensorflow:{'Loss/classification_loss': 0.14884876,\n",
            " 'Loss/localization_loss': 0.03594884,\n",
            " 'Loss/regularization_loss': 0.24151982,\n",
            " 'Loss/total_loss': 0.42631742,\n",
            " 'learning_rate': 0.039970152}\n",
            "I0401 11:42:30.139525 140098221348736 model_lib_v2.py:708] {'Loss/classification_loss': 0.14884876,\n",
            " 'Loss/localization_loss': 0.03594884,\n",
            " 'Loss/regularization_loss': 0.24151982,\n",
            " 'Loss/total_loss': 0.42631742,\n",
            " 'learning_rate': 0.039970152}\n",
            "INFO:tensorflow:Step 2500 per-step time 1.573s\n",
            "I0401 11:45:07.477515 140098221348736 model_lib_v2.py:707] Step 2500 per-step time 1.573s\n",
            "INFO:tensorflow:{'Loss/classification_loss': 0.14269233,\n",
            " 'Loss/localization_loss': 0.024414485,\n",
            " 'Loss/regularization_loss': 0.2384371,\n",
            " 'Loss/total_loss': 0.40554392,\n",
            " 'learning_rate': 0.039953373}\n",
            "I0401 11:45:07.477886 140098221348736 model_lib_v2.py:708] {'Loss/classification_loss': 0.14269233,\n",
            " 'Loss/localization_loss': 0.024414485,\n",
            " 'Loss/regularization_loss': 0.2384371,\n",
            " 'Loss/total_loss': 0.40554392,\n",
            " 'learning_rate': 0.039953373}\n",
            "INFO:tensorflow:Step 2600 per-step time 1.574s\n",
            "I0401 11:47:44.846154 140098221348736 model_lib_v2.py:707] Step 2600 per-step time 1.574s\n",
            "INFO:tensorflow:{'Loss/classification_loss': 0.14996593,\n",
            " 'Loss/localization_loss': 0.09859158,\n",
            " 'Loss/regularization_loss': 0.23472244,\n",
            " 'Loss/total_loss': 0.48327994,\n",
            " 'learning_rate': 0.03993287}\n",
            "I0401 11:47:44.846593 140098221348736 model_lib_v2.py:708] {'Loss/classification_loss': 0.14996593,\n",
            " 'Loss/localization_loss': 0.09859158,\n",
            " 'Loss/regularization_loss': 0.23472244,\n",
            " 'Loss/total_loss': 0.48327994,\n",
            " 'learning_rate': 0.03993287}\n",
            "INFO:tensorflow:Step 2700 per-step time 1.574s\n",
            "I0401 11:50:22.229298 140098221348736 model_lib_v2.py:707] Step 2700 per-step time 1.574s\n",
            "INFO:tensorflow:{'Loss/classification_loss': 0.14583448,\n",
            " 'Loss/localization_loss': 0.037053287,\n",
            " 'Loss/regularization_loss': 0.23119473,\n",
            " 'Loss/total_loss': 0.4140825,\n",
            " 'learning_rate': 0.039908648}\n",
            "I0401 11:50:22.229674 140098221348736 model_lib_v2.py:708] {'Loss/classification_loss': 0.14583448,\n",
            " 'Loss/localization_loss': 0.037053287,\n",
            " 'Loss/regularization_loss': 0.23119473,\n",
            " 'Loss/total_loss': 0.4140825,\n",
            " 'learning_rate': 0.039908648}\n",
            "INFO:tensorflow:Step 2800 per-step time 1.573s\n",
            "I0401 11:52:59.566690 140098221348736 model_lib_v2.py:707] Step 2800 per-step time 1.573s\n",
            "INFO:tensorflow:{'Loss/classification_loss': 0.18078169,\n",
            " 'Loss/localization_loss': 0.02759049,\n",
            " 'Loss/regularization_loss': 0.22773537,\n",
            " 'Loss/total_loss': 0.43610755,\n",
            " 'learning_rate': 0.039880715}\n",
            "I0401 11:52:59.567055 140098221348736 model_lib_v2.py:708] {'Loss/classification_loss': 0.18078169,\n",
            " 'Loss/localization_loss': 0.02759049,\n",
            " 'Loss/regularization_loss': 0.22773537,\n",
            " 'Loss/total_loss': 0.43610755,\n",
            " 'learning_rate': 0.039880715}\n",
            "INFO:tensorflow:Step 2900 per-step time 1.575s\n",
            "I0401 11:55:37.090296 140098221348736 model_lib_v2.py:707] Step 2900 per-step time 1.575s\n",
            "INFO:tensorflow:{'Loss/classification_loss': 0.18160883,\n",
            " 'Loss/localization_loss': 0.018831259,\n",
            " 'Loss/regularization_loss': 0.22648007,\n",
            " 'Loss/total_loss': 0.42692015,\n",
            " 'learning_rate': 0.039849065}\n",
            "I0401 11:55:37.090747 140098221348736 model_lib_v2.py:708] {'Loss/classification_loss': 0.18160883,\n",
            " 'Loss/localization_loss': 0.018831259,\n",
            " 'Loss/regularization_loss': 0.22648007,\n",
            " 'Loss/total_loss': 0.42692015,\n",
            " 'learning_rate': 0.039849065}\n",
            "INFO:tensorflow:Step 3000 per-step time 1.570s\n",
            "I0401 11:58:14.114293 140098221348736 model_lib_v2.py:707] Step 3000 per-step time 1.570s\n",
            "INFO:tensorflow:{'Loss/classification_loss': 0.20985779,\n",
            " 'Loss/localization_loss': 0.03777952,\n",
            " 'Loss/regularization_loss': 0.22426945,\n",
            " 'Loss/total_loss': 0.47190678,\n",
            " 'learning_rate': 0.03981372}\n",
            "I0401 11:58:14.114686 140098221348736 model_lib_v2.py:708] {'Loss/classification_loss': 0.20985779,\n",
            " 'Loss/localization_loss': 0.03777952,\n",
            " 'Loss/regularization_loss': 0.22426945,\n",
            " 'Loss/total_loss': 0.47190678,\n",
            " 'learning_rate': 0.03981372}\n",
            "INFO:tensorflow:Step 3100 per-step time 1.590s\n",
            "I0401 12:00:53.078182 140098221348736 model_lib_v2.py:707] Step 3100 per-step time 1.590s\n",
            "INFO:tensorflow:{'Loss/classification_loss': 0.14147651,\n",
            " 'Loss/localization_loss': 0.04138878,\n",
            " 'Loss/regularization_loss': 0.22113878,\n",
            " 'Loss/total_loss': 0.40400407,\n",
            " 'learning_rate': 0.03977467}\n",
            "I0401 12:00:53.078574 140098221348736 model_lib_v2.py:708] {'Loss/classification_loss': 0.14147651,\n",
            " 'Loss/localization_loss': 0.04138878,\n",
            " 'Loss/regularization_loss': 0.22113878,\n",
            " 'Loss/total_loss': 0.40400407,\n",
            " 'learning_rate': 0.03977467}\n",
            "INFO:tensorflow:Step 3200 per-step time 1.580s\n",
            "I0401 12:03:31.096391 140098221348736 model_lib_v2.py:707] Step 3200 per-step time 1.580s\n",
            "INFO:tensorflow:{'Loss/classification_loss': 0.17853436,\n",
            " 'Loss/localization_loss': 0.017262287,\n",
            " 'Loss/regularization_loss': 0.21893394,\n",
            " 'Loss/total_loss': 0.41473058,\n",
            " 'learning_rate': 0.03973194}\n",
            "I0401 12:03:31.096763 140098221348736 model_lib_v2.py:708] {'Loss/classification_loss': 0.17853436,\n",
            " 'Loss/localization_loss': 0.017262287,\n",
            " 'Loss/regularization_loss': 0.21893394,\n",
            " 'Loss/total_loss': 0.41473058,\n",
            " 'learning_rate': 0.03973194}\n",
            "INFO:tensorflow:Step 3300 per-step time 1.578s\n",
            "I0401 12:06:08.885059 140098221348736 model_lib_v2.py:707] Step 3300 per-step time 1.578s\n",
            "INFO:tensorflow:{'Loss/classification_loss': 0.15567628,\n",
            " 'Loss/localization_loss': 0.033811744,\n",
            " 'Loss/regularization_loss': 0.21894586,\n",
            " 'Loss/total_loss': 0.40843388,\n",
            " 'learning_rate': 0.03968552}\n",
            "I0401 12:06:08.885441 140098221348736 model_lib_v2.py:708] {'Loss/classification_loss': 0.15567628,\n",
            " 'Loss/localization_loss': 0.033811744,\n",
            " 'Loss/regularization_loss': 0.21894586,\n",
            " 'Loss/total_loss': 0.40843388,\n",
            " 'learning_rate': 0.03968552}\n",
            "INFO:tensorflow:Step 3400 per-step time 1.573s\n",
            "I0401 12:08:46.221178 140098221348736 model_lib_v2.py:707] Step 3400 per-step time 1.573s\n",
            "INFO:tensorflow:{'Loss/classification_loss': 0.15229155,\n",
            " 'Loss/localization_loss': 0.044848047,\n",
            " 'Loss/regularization_loss': 0.22104865,\n",
            " 'Loss/total_loss': 0.41818824,\n",
            " 'learning_rate': 0.039635435}\n",
            "I0401 12:08:46.221587 140098221348736 model_lib_v2.py:708] {'Loss/classification_loss': 0.15229155,\n",
            " 'Loss/localization_loss': 0.044848047,\n",
            " 'Loss/regularization_loss': 0.22104865,\n",
            " 'Loss/total_loss': 0.41818824,\n",
            " 'learning_rate': 0.039635435}\n",
            "INFO:tensorflow:Step 3500 per-step time 1.580s\n",
            "I0401 12:11:24.200570 140098221348736 model_lib_v2.py:707] Step 3500 per-step time 1.580s\n",
            "INFO:tensorflow:{'Loss/classification_loss': 0.13103527,\n",
            " 'Loss/localization_loss': 0.018688537,\n",
            " 'Loss/regularization_loss': 0.21857168,\n",
            " 'Loss/total_loss': 0.3682955,\n",
            " 'learning_rate': 0.03958168}\n",
            "I0401 12:11:24.200989 140098221348736 model_lib_v2.py:708] {'Loss/classification_loss': 0.13103527,\n",
            " 'Loss/localization_loss': 0.018688537,\n",
            " 'Loss/regularization_loss': 0.21857168,\n",
            " 'Loss/total_loss': 0.3682955,\n",
            " 'learning_rate': 0.03958168}\n",
            "INFO:tensorflow:Step 3600 per-step time 1.577s\n",
            "I0401 12:14:01.887471 140098221348736 model_lib_v2.py:707] Step 3600 per-step time 1.577s\n",
            "INFO:tensorflow:{'Loss/classification_loss': 0.1586129,\n",
            " 'Loss/localization_loss': 0.027487556,\n",
            " 'Loss/regularization_loss': 0.21625516,\n",
            " 'Loss/total_loss': 0.4023556,\n",
            " 'learning_rate': 0.039524276}\n",
            "I0401 12:14:01.887865 140098221348736 model_lib_v2.py:708] {'Loss/classification_loss': 0.1586129,\n",
            " 'Loss/localization_loss': 0.027487556,\n",
            " 'Loss/regularization_loss': 0.21625516,\n",
            " 'Loss/total_loss': 0.4023556,\n",
            " 'learning_rate': 0.039524276}\n",
            "INFO:tensorflow:Step 3700 per-step time 1.577s\n",
            "I0401 12:16:39.571714 140098221348736 model_lib_v2.py:707] Step 3700 per-step time 1.577s\n",
            "INFO:tensorflow:{'Loss/classification_loss': 0.15148146,\n",
            " 'Loss/localization_loss': 0.057196755,\n",
            " 'Loss/regularization_loss': 0.21340963,\n",
            " 'Loss/total_loss': 0.42208785,\n",
            " 'learning_rate': 0.03946323}\n",
            "I0401 12:16:39.572098 140098221348736 model_lib_v2.py:708] {'Loss/classification_loss': 0.15148146,\n",
            " 'Loss/localization_loss': 0.057196755,\n",
            " 'Loss/regularization_loss': 0.21340963,\n",
            " 'Loss/total_loss': 0.42208785,\n",
            " 'learning_rate': 0.03946323}\n",
            "INFO:tensorflow:Step 3800 per-step time 1.576s\n",
            "I0401 12:19:17.200930 140098221348736 model_lib_v2.py:707] Step 3800 per-step time 1.576s\n",
            "INFO:tensorflow:{'Loss/classification_loss': 0.110794425,\n",
            " 'Loss/localization_loss': 0.0162701,\n",
            " 'Loss/regularization_loss': 0.21053953,\n",
            " 'Loss/total_loss': 0.33760405,\n",
            " 'learning_rate': 0.039398547}\n",
            "I0401 12:19:17.201330 140098221348736 model_lib_v2.py:708] {'Loss/classification_loss': 0.110794425,\n",
            " 'Loss/localization_loss': 0.0162701,\n",
            " 'Loss/regularization_loss': 0.21053953,\n",
            " 'Loss/total_loss': 0.33760405,\n",
            " 'learning_rate': 0.039398547}\n",
            "INFO:tensorflow:Step 3900 per-step time 1.575s\n",
            "I0401 12:21:54.697873 140098221348736 model_lib_v2.py:707] Step 3900 per-step time 1.575s\n",
            "INFO:tensorflow:{'Loss/classification_loss': 0.17110488,\n",
            " 'Loss/localization_loss': 0.02301323,\n",
            " 'Loss/regularization_loss': 0.20885074,\n",
            " 'Loss/total_loss': 0.40296885,\n",
            " 'learning_rate': 0.039330248}\n",
            "I0401 12:21:54.698303 140098221348736 model_lib_v2.py:708] {'Loss/classification_loss': 0.17110488,\n",
            " 'Loss/localization_loss': 0.02301323,\n",
            " 'Loss/regularization_loss': 0.20885074,\n",
            " 'Loss/total_loss': 0.40296885,\n",
            " 'learning_rate': 0.039330248}\n",
            "INFO:tensorflow:Step 4000 per-step time 1.579s\n",
            "I0401 12:24:32.600507 140098221348736 model_lib_v2.py:707] Step 4000 per-step time 1.579s\n",
            "INFO:tensorflow:{'Loss/classification_loss': 0.12599204,\n",
            " 'Loss/localization_loss': 0.051268477,\n",
            " 'Loss/regularization_loss': 0.20731707,\n",
            " 'Loss/total_loss': 0.38457757,\n",
            " 'learning_rate': 0.039258346}\n",
            "I0401 12:24:32.600876 140098221348736 model_lib_v2.py:708] {'Loss/classification_loss': 0.12599204,\n",
            " 'Loss/localization_loss': 0.051268477,\n",
            " 'Loss/regularization_loss': 0.20731707,\n",
            " 'Loss/total_loss': 0.38457757,\n",
            " 'learning_rate': 0.039258346}\n",
            "INFO:tensorflow:Step 4100 per-step time 1.591s\n",
            "I0401 12:27:11.693343 140098221348736 model_lib_v2.py:707] Step 4100 per-step time 1.591s\n",
            "INFO:tensorflow:{'Loss/classification_loss': 0.15876554,\n",
            " 'Loss/localization_loss': 0.021549594,\n",
            " 'Loss/regularization_loss': 0.20608313,\n",
            " 'Loss/total_loss': 0.38639826,\n",
            " 'learning_rate': 0.03918285}\n",
            "I0401 12:27:11.693913 140098221348736 model_lib_v2.py:708] {'Loss/classification_loss': 0.15876554,\n",
            " 'Loss/localization_loss': 0.021549594,\n",
            " 'Loss/regularization_loss': 0.20608313,\n",
            " 'Loss/total_loss': 0.38639826,\n",
            " 'learning_rate': 0.03918285}\n",
            "INFO:tensorflow:Step 4200 per-step time 1.550s\n",
            "I0401 12:29:46.691295 140098221348736 model_lib_v2.py:707] Step 4200 per-step time 1.550s\n",
            "INFO:tensorflow:{'Loss/classification_loss': 0.19060053,\n",
            " 'Loss/localization_loss': 0.034047224,\n",
            " 'Loss/regularization_loss': 0.20436886,\n",
            " 'Loss/total_loss': 0.42901662,\n",
            " 'learning_rate': 0.03910377}\n",
            "I0401 12:29:46.691662 140098221348736 model_lib_v2.py:708] {'Loss/classification_loss': 0.19060053,\n",
            " 'Loss/localization_loss': 0.034047224,\n",
            " 'Loss/regularization_loss': 0.20436886,\n",
            " 'Loss/total_loss': 0.42901662,\n",
            " 'learning_rate': 0.03910377}\n",
            "INFO:tensorflow:Step 4300 per-step time 1.550s\n",
            "I0401 12:32:21.699913 140098221348736 model_lib_v2.py:707] Step 4300 per-step time 1.550s\n",
            "INFO:tensorflow:{'Loss/classification_loss': 0.10240415,\n",
            " 'Loss/localization_loss': 0.023637643,\n",
            " 'Loss/regularization_loss': 0.20057385,\n",
            " 'Loss/total_loss': 0.32661563,\n",
            " 'learning_rate': 0.039021127}\n",
            "I0401 12:32:21.700269 140098221348736 model_lib_v2.py:708] {'Loss/classification_loss': 0.10240415,\n",
            " 'Loss/localization_loss': 0.023637643,\n",
            " 'Loss/regularization_loss': 0.20057385,\n",
            " 'Loss/total_loss': 0.32661563,\n",
            " 'learning_rate': 0.039021127}\n",
            "INFO:tensorflow:Step 4400 per-step time 1.553s\n",
            "I0401 12:34:57.031143 140098221348736 model_lib_v2.py:707] Step 4400 per-step time 1.553s\n",
            "INFO:tensorflow:{'Loss/classification_loss': 0.14458638,\n",
            " 'Loss/localization_loss': 0.04871139,\n",
            " 'Loss/regularization_loss': 0.20029795,\n",
            " 'Loss/total_loss': 0.39359573,\n",
            " 'learning_rate': 0.03893494}\n",
            "I0401 12:34:57.031515 140098221348736 model_lib_v2.py:708] {'Loss/classification_loss': 0.14458638,\n",
            " 'Loss/localization_loss': 0.04871139,\n",
            " 'Loss/regularization_loss': 0.20029795,\n",
            " 'Loss/total_loss': 0.39359573,\n",
            " 'learning_rate': 0.03893494}\n",
            "INFO:tensorflow:Step 4500 per-step time 1.554s\n",
            "I0401 12:37:32.388347 140098221348736 model_lib_v2.py:707] Step 4500 per-step time 1.554s\n",
            "INFO:tensorflow:{'Loss/classification_loss': 0.09200521,\n",
            " 'Loss/localization_loss': 0.013858421,\n",
            " 'Loss/regularization_loss': 0.1995529,\n",
            " 'Loss/total_loss': 0.30541652,\n",
            " 'learning_rate': 0.03884522}\n",
            "I0401 12:37:32.388707 140098221348736 model_lib_v2.py:708] {'Loss/classification_loss': 0.09200521,\n",
            " 'Loss/localization_loss': 0.013858421,\n",
            " 'Loss/regularization_loss': 0.1995529,\n",
            " 'Loss/total_loss': 0.30541652,\n",
            " 'learning_rate': 0.03884522}\n",
            "INFO:tensorflow:Step 4600 per-step time 1.554s\n",
            "I0401 12:40:07.838033 140098221348736 model_lib_v2.py:707] Step 4600 per-step time 1.554s\n",
            "INFO:tensorflow:{'Loss/classification_loss': 0.17726895,\n",
            " 'Loss/localization_loss': 0.08489621,\n",
            " 'Loss/regularization_loss': 0.21006465,\n",
            " 'Loss/total_loss': 0.4722298,\n",
            " 'learning_rate': 0.03875198}\n",
            "I0401 12:40:07.838397 140098221348736 model_lib_v2.py:708] {'Loss/classification_loss': 0.17726895,\n",
            " 'Loss/localization_loss': 0.08489621,\n",
            " 'Loss/regularization_loss': 0.21006465,\n",
            " 'Loss/total_loss': 0.4722298,\n",
            " 'learning_rate': 0.03875198}\n",
            "INFO:tensorflow:Step 4700 per-step time 1.553s\n",
            "I0401 12:42:43.164394 140098221348736 model_lib_v2.py:707] Step 4700 per-step time 1.553s\n",
            "INFO:tensorflow:{'Loss/classification_loss': 0.16323265,\n",
            " 'Loss/localization_loss': 0.0315006,\n",
            " 'Loss/regularization_loss': 0.20839481,\n",
            " 'Loss/total_loss': 0.4031281,\n",
            " 'learning_rate': 0.038655244}\n",
            "I0401 12:42:43.164799 140098221348736 model_lib_v2.py:708] {'Loss/classification_loss': 0.16323265,\n",
            " 'Loss/localization_loss': 0.0315006,\n",
            " 'Loss/regularization_loss': 0.20839481,\n",
            " 'Loss/total_loss': 0.4031281,\n",
            " 'learning_rate': 0.038655244}\n",
            "INFO:tensorflow:Step 4800 per-step time 1.551s\n",
            "I0401 12:45:18.264114 140098221348736 model_lib_v2.py:707] Step 4800 per-step time 1.551s\n",
            "INFO:tensorflow:{'Loss/classification_loss': 0.1796494,\n",
            " 'Loss/localization_loss': 0.05324482,\n",
            " 'Loss/regularization_loss': 0.20628966,\n",
            " 'Loss/total_loss': 0.4391839,\n",
            " 'learning_rate': 0.038555026}\n",
            "I0401 12:45:18.264508 140098221348736 model_lib_v2.py:708] {'Loss/classification_loss': 0.1796494,\n",
            " 'Loss/localization_loss': 0.05324482,\n",
            " 'Loss/regularization_loss': 0.20628966,\n",
            " 'Loss/total_loss': 0.4391839,\n",
            " 'learning_rate': 0.038555026}\n",
            "INFO:tensorflow:Step 4900 per-step time 1.550s\n",
            "I0401 12:47:53.304404 140098221348736 model_lib_v2.py:707] Step 4900 per-step time 1.550s\n",
            "INFO:tensorflow:{'Loss/classification_loss': 0.13399364,\n",
            " 'Loss/localization_loss': 0.01655431,\n",
            " 'Loss/regularization_loss': 0.2046195,\n",
            " 'Loss/total_loss': 0.35516745,\n",
            " 'learning_rate': 0.038451348}\n",
            "I0401 12:47:53.304759 140098221348736 model_lib_v2.py:708] {'Loss/classification_loss': 0.13399364,\n",
            " 'Loss/localization_loss': 0.01655431,\n",
            " 'Loss/regularization_loss': 0.2046195,\n",
            " 'Loss/total_loss': 0.35516745,\n",
            " 'learning_rate': 0.038451348}\n",
            "INFO:tensorflow:Step 5000 per-step time 1.553s\n",
            "I0401 12:50:28.628320 140098221348736 model_lib_v2.py:707] Step 5000 per-step time 1.553s\n",
            "INFO:tensorflow:{'Loss/classification_loss': 0.09028506,\n",
            " 'Loss/localization_loss': 0.023680585,\n",
            " 'Loss/regularization_loss': 0.20132588,\n",
            " 'Loss/total_loss': 0.31529152,\n",
            " 'learning_rate': 0.038344227}\n",
            "I0401 12:50:28.628731 140098221348736 model_lib_v2.py:708] {'Loss/classification_loss': 0.09028506,\n",
            " 'Loss/localization_loss': 0.023680585,\n",
            " 'Loss/regularization_loss': 0.20132588,\n",
            " 'Loss/total_loss': 0.31529152,\n",
            " 'learning_rate': 0.038344227}\n"
          ]
        }
      ]
    },
    {
      "cell_type": "code",
      "source": [
        "!pip uninstall opencv-python"
      ],
      "metadata": {
        "colab": {
          "base_uri": "https://localhost:8080/"
        },
        "id": "8kRD39u3psKD",
        "outputId": "96462ad2-9273-43ec-8be4-1183ee3777e2"
      },
      "execution_count": null,
      "outputs": [
        {
          "output_type": "stream",
          "name": "stdout",
          "text": [
            "Found existing installation: opencv-python 4.1.2.30\n",
            "Uninstalling opencv-python-4.1.2.30:\n",
            "  Would remove:\n",
            "    /usr/local/lib/python3.7/dist-packages/cv2/*\n",
            "    /usr/local/lib/python3.7/dist-packages/opencv_python-4.1.2.30.dist-info/*\n",
            "  Would not remove (might be manually added):\n",
            "    /usr/local/lib/python3.7/dist-packages/cv2/config-3.py\n",
            "    /usr/local/lib/python3.7/dist-packages/cv2/config.py\n",
            "    /usr/local/lib/python3.7/dist-packages/cv2/cv2.abi3.so\n",
            "    /usr/local/lib/python3.7/dist-packages/cv2/gapi/__init__.py\n",
            "    /usr/local/lib/python3.7/dist-packages/cv2/load_config_py2.py\n",
            "    /usr/local/lib/python3.7/dist-packages/cv2/load_config_py3.py\n",
            "    /usr/local/lib/python3.7/dist-packages/cv2/mat_wrapper/__init__.py\n",
            "    /usr/local/lib/python3.7/dist-packages/cv2/misc/__init__.py\n",
            "    /usr/local/lib/python3.7/dist-packages/cv2/misc/version.py\n",
            "    /usr/local/lib/python3.7/dist-packages/cv2/utils/__init__.py\n",
            "    /usr/local/lib/python3.7/dist-packages/cv2/version.py\n",
            "Proceed (y/n)? y\n",
            "  Successfully uninstalled opencv-python-4.1.2.30\n"
          ]
        }
      ]
    },
    {
      "cell_type": "code",
      "source": [
        "pwd"
      ],
      "metadata": {
        "colab": {
          "base_uri": "https://localhost:8080/",
          "height": 36
        },
        "id": "Y7QuCAZ1P5_j",
        "outputId": "a060e6f3-fbf2-4d50-ea7b-461d7adc549a"
      },
      "execution_count": null,
      "outputs": [
        {
          "output_type": "execute_result",
          "data": {
            "text/plain": [
              "'/content/drive/MyDrive/TF2/models/research'"
            ],
            "application/vnd.google.colaboratory.intrinsic+json": {
              "type": "string"
            }
          },
          "metadata": {},
          "execution_count": 14
        }
      ]
    },
    {
      "cell_type": "code",
      "source": [
        "%load_ext tensorboard --logdir=models/my_models"
      ],
      "metadata": {
        "colab": {
          "base_uri": "https://localhost:8080/",
          "height": 510
        },
        "id": "XiQ1UJUsqo89",
        "outputId": "75423859-b5ed-44a3-a560-825f095d3da2"
      },
      "execution_count": null,
      "outputs": [
        {
          "output_type": "error",
          "ename": "ModuleNotFoundError",
          "evalue": "ignored",
          "traceback": [
            "\u001b[0;31m---------------------------------------------------------------------------\u001b[0m",
            "\u001b[0;31mModuleNotFoundError\u001b[0m                       Traceback (most recent call last)",
            "\u001b[0;32m<ipython-input-12-82f7250e1ad5>\u001b[0m in \u001b[0;36m<module>\u001b[0;34m()\u001b[0m\n\u001b[0;32m----> 1\u001b[0;31m \u001b[0mget_ipython\u001b[0m\u001b[0;34m(\u001b[0m\u001b[0;34m)\u001b[0m\u001b[0;34m.\u001b[0m\u001b[0mmagic\u001b[0m\u001b[0;34m(\u001b[0m\u001b[0;34m'load_ext tensorboard --logdir=models/my_models'\u001b[0m\u001b[0;34m)\u001b[0m\u001b[0;34m\u001b[0m\u001b[0;34m\u001b[0m\u001b[0m\n\u001b[0m",
            "\u001b[0;32m/usr/local/lib/python3.7/dist-packages/IPython/core/interactiveshell.py\u001b[0m in \u001b[0;36mmagic\u001b[0;34m(self, arg_s)\u001b[0m\n\u001b[1;32m   2158\u001b[0m         \u001b[0mmagic_name\u001b[0m\u001b[0;34m,\u001b[0m \u001b[0m_\u001b[0m\u001b[0;34m,\u001b[0m \u001b[0mmagic_arg_s\u001b[0m \u001b[0;34m=\u001b[0m \u001b[0marg_s\u001b[0m\u001b[0;34m.\u001b[0m\u001b[0mpartition\u001b[0m\u001b[0;34m(\u001b[0m\u001b[0;34m' '\u001b[0m\u001b[0;34m)\u001b[0m\u001b[0;34m\u001b[0m\u001b[0;34m\u001b[0m\u001b[0m\n\u001b[1;32m   2159\u001b[0m         \u001b[0mmagic_name\u001b[0m \u001b[0;34m=\u001b[0m \u001b[0mmagic_name\u001b[0m\u001b[0;34m.\u001b[0m\u001b[0mlstrip\u001b[0m\u001b[0;34m(\u001b[0m\u001b[0mprefilter\u001b[0m\u001b[0;34m.\u001b[0m\u001b[0mESC_MAGIC\u001b[0m\u001b[0;34m)\u001b[0m\u001b[0;34m\u001b[0m\u001b[0;34m\u001b[0m\u001b[0m\n\u001b[0;32m-> 2160\u001b[0;31m         \u001b[0;32mreturn\u001b[0m \u001b[0mself\u001b[0m\u001b[0;34m.\u001b[0m\u001b[0mrun_line_magic\u001b[0m\u001b[0;34m(\u001b[0m\u001b[0mmagic_name\u001b[0m\u001b[0;34m,\u001b[0m \u001b[0mmagic_arg_s\u001b[0m\u001b[0;34m)\u001b[0m\u001b[0;34m\u001b[0m\u001b[0;34m\u001b[0m\u001b[0m\n\u001b[0m\u001b[1;32m   2161\u001b[0m \u001b[0;34m\u001b[0m\u001b[0m\n\u001b[1;32m   2162\u001b[0m     \u001b[0;31m#-------------------------------------------------------------------------\u001b[0m\u001b[0;34m\u001b[0m\u001b[0;34m\u001b[0m\u001b[0;34m\u001b[0m\u001b[0m\n",
            "\u001b[0;32m/usr/local/lib/python3.7/dist-packages/IPython/core/interactiveshell.py\u001b[0m in \u001b[0;36mrun_line_magic\u001b[0;34m(self, magic_name, line)\u001b[0m\n\u001b[1;32m   2079\u001b[0m                 \u001b[0mkwargs\u001b[0m\u001b[0;34m[\u001b[0m\u001b[0;34m'local_ns'\u001b[0m\u001b[0;34m]\u001b[0m \u001b[0;34m=\u001b[0m \u001b[0msys\u001b[0m\u001b[0;34m.\u001b[0m\u001b[0m_getframe\u001b[0m\u001b[0;34m(\u001b[0m\u001b[0mstack_depth\u001b[0m\u001b[0;34m)\u001b[0m\u001b[0;34m.\u001b[0m\u001b[0mf_locals\u001b[0m\u001b[0;34m\u001b[0m\u001b[0;34m\u001b[0m\u001b[0m\n\u001b[1;32m   2080\u001b[0m             \u001b[0;32mwith\u001b[0m \u001b[0mself\u001b[0m\u001b[0;34m.\u001b[0m\u001b[0mbuiltin_trap\u001b[0m\u001b[0;34m:\u001b[0m\u001b[0;34m\u001b[0m\u001b[0;34m\u001b[0m\u001b[0m\n\u001b[0;32m-> 2081\u001b[0;31m                 \u001b[0mresult\u001b[0m \u001b[0;34m=\u001b[0m \u001b[0mfn\u001b[0m\u001b[0;34m(\u001b[0m\u001b[0;34m*\u001b[0m\u001b[0margs\u001b[0m\u001b[0;34m,\u001b[0m\u001b[0;34m**\u001b[0m\u001b[0mkwargs\u001b[0m\u001b[0;34m)\u001b[0m\u001b[0;34m\u001b[0m\u001b[0;34m\u001b[0m\u001b[0m\n\u001b[0m\u001b[1;32m   2082\u001b[0m             \u001b[0;32mreturn\u001b[0m \u001b[0mresult\u001b[0m\u001b[0;34m\u001b[0m\u001b[0;34m\u001b[0m\u001b[0m\n\u001b[1;32m   2083\u001b[0m \u001b[0;34m\u001b[0m\u001b[0m\n",
            "\u001b[0;32m<decorator-gen-56>\u001b[0m in \u001b[0;36mload_ext\u001b[0;34m(self, module_str)\u001b[0m\n",
            "\u001b[0;32m/usr/local/lib/python3.7/dist-packages/IPython/core/magic.py\u001b[0m in \u001b[0;36m<lambda>\u001b[0;34m(f, *a, **k)\u001b[0m\n\u001b[1;32m    186\u001b[0m     \u001b[0;31m# but it's overkill for just that one bit of state.\u001b[0m\u001b[0;34m\u001b[0m\u001b[0;34m\u001b[0m\u001b[0;34m\u001b[0m\u001b[0m\n\u001b[1;32m    187\u001b[0m     \u001b[0;32mdef\u001b[0m \u001b[0mmagic_deco\u001b[0m\u001b[0;34m(\u001b[0m\u001b[0marg\u001b[0m\u001b[0;34m)\u001b[0m\u001b[0;34m:\u001b[0m\u001b[0;34m\u001b[0m\u001b[0;34m\u001b[0m\u001b[0m\n\u001b[0;32m--> 188\u001b[0;31m         \u001b[0mcall\u001b[0m \u001b[0;34m=\u001b[0m \u001b[0;32mlambda\u001b[0m \u001b[0mf\u001b[0m\u001b[0;34m,\u001b[0m \u001b[0;34m*\u001b[0m\u001b[0ma\u001b[0m\u001b[0;34m,\u001b[0m \u001b[0;34m**\u001b[0m\u001b[0mk\u001b[0m\u001b[0;34m:\u001b[0m \u001b[0mf\u001b[0m\u001b[0;34m(\u001b[0m\u001b[0;34m*\u001b[0m\u001b[0ma\u001b[0m\u001b[0;34m,\u001b[0m \u001b[0;34m**\u001b[0m\u001b[0mk\u001b[0m\u001b[0;34m)\u001b[0m\u001b[0;34m\u001b[0m\u001b[0;34m\u001b[0m\u001b[0m\n\u001b[0m\u001b[1;32m    189\u001b[0m \u001b[0;34m\u001b[0m\u001b[0m\n\u001b[1;32m    190\u001b[0m         \u001b[0;32mif\u001b[0m \u001b[0mcallable\u001b[0m\u001b[0;34m(\u001b[0m\u001b[0marg\u001b[0m\u001b[0;34m)\u001b[0m\u001b[0;34m:\u001b[0m\u001b[0;34m\u001b[0m\u001b[0;34m\u001b[0m\u001b[0m\n",
            "\u001b[0;32m/usr/local/lib/python3.7/dist-packages/IPython/core/magics/extension.py\u001b[0m in \u001b[0;36mload_ext\u001b[0;34m(self, module_str)\u001b[0m\n\u001b[1;32m     35\u001b[0m         \u001b[0;32mif\u001b[0m \u001b[0;32mnot\u001b[0m \u001b[0mmodule_str\u001b[0m\u001b[0;34m:\u001b[0m\u001b[0;34m\u001b[0m\u001b[0;34m\u001b[0m\u001b[0m\n\u001b[1;32m     36\u001b[0m             \u001b[0;32mraise\u001b[0m \u001b[0mUsageError\u001b[0m\u001b[0;34m(\u001b[0m\u001b[0;34m'Missing module name.'\u001b[0m\u001b[0;34m)\u001b[0m\u001b[0;34m\u001b[0m\u001b[0;34m\u001b[0m\u001b[0m\n\u001b[0;32m---> 37\u001b[0;31m         \u001b[0mres\u001b[0m \u001b[0;34m=\u001b[0m \u001b[0mself\u001b[0m\u001b[0;34m.\u001b[0m\u001b[0mshell\u001b[0m\u001b[0;34m.\u001b[0m\u001b[0mextension_manager\u001b[0m\u001b[0;34m.\u001b[0m\u001b[0mload_extension\u001b[0m\u001b[0;34m(\u001b[0m\u001b[0mmodule_str\u001b[0m\u001b[0;34m)\u001b[0m\u001b[0;34m\u001b[0m\u001b[0;34m\u001b[0m\u001b[0m\n\u001b[0m\u001b[1;32m     38\u001b[0m \u001b[0;34m\u001b[0m\u001b[0m\n\u001b[1;32m     39\u001b[0m         \u001b[0;32mif\u001b[0m \u001b[0mres\u001b[0m \u001b[0;34m==\u001b[0m \u001b[0;34m'already loaded'\u001b[0m\u001b[0;34m:\u001b[0m\u001b[0;34m\u001b[0m\u001b[0;34m\u001b[0m\u001b[0m\n",
            "\u001b[0;32m/usr/local/lib/python3.7/dist-packages/IPython/core/extensions.py\u001b[0m in \u001b[0;36mload_extension\u001b[0;34m(self, module_str)\u001b[0m\n\u001b[1;32m     81\u001b[0m             \u001b[0;32mif\u001b[0m \u001b[0mmodule_str\u001b[0m \u001b[0;32mnot\u001b[0m \u001b[0;32min\u001b[0m \u001b[0msys\u001b[0m\u001b[0;34m.\u001b[0m\u001b[0mmodules\u001b[0m\u001b[0;34m:\u001b[0m\u001b[0;34m\u001b[0m\u001b[0;34m\u001b[0m\u001b[0m\n\u001b[1;32m     82\u001b[0m                 \u001b[0;32mwith\u001b[0m \u001b[0mprepended_to_syspath\u001b[0m\u001b[0;34m(\u001b[0m\u001b[0mself\u001b[0m\u001b[0;34m.\u001b[0m\u001b[0mipython_extension_dir\u001b[0m\u001b[0;34m)\u001b[0m\u001b[0;34m:\u001b[0m\u001b[0;34m\u001b[0m\u001b[0;34m\u001b[0m\u001b[0m\n\u001b[0;32m---> 83\u001b[0;31m                     \u001b[0m__import__\u001b[0m\u001b[0;34m(\u001b[0m\u001b[0mmodule_str\u001b[0m\u001b[0;34m)\u001b[0m\u001b[0;34m\u001b[0m\u001b[0;34m\u001b[0m\u001b[0m\n\u001b[0m\u001b[1;32m     84\u001b[0m             \u001b[0mmod\u001b[0m \u001b[0;34m=\u001b[0m \u001b[0msys\u001b[0m\u001b[0;34m.\u001b[0m\u001b[0mmodules\u001b[0m\u001b[0;34m[\u001b[0m\u001b[0mmodule_str\u001b[0m\u001b[0;34m]\u001b[0m\u001b[0;34m\u001b[0m\u001b[0;34m\u001b[0m\u001b[0m\n\u001b[1;32m     85\u001b[0m             \u001b[0;32mif\u001b[0m \u001b[0mself\u001b[0m\u001b[0;34m.\u001b[0m\u001b[0m_call_load_ipython_extension\u001b[0m\u001b[0;34m(\u001b[0m\u001b[0mmod\u001b[0m\u001b[0;34m)\u001b[0m\u001b[0;34m:\u001b[0m\u001b[0;34m\u001b[0m\u001b[0;34m\u001b[0m\u001b[0m\n",
            "\u001b[0;31mModuleNotFoundError\u001b[0m: No module named 'tensorboard --logdir=models/my_models'",
            "",
            "\u001b[0;31m---------------------------------------------------------------------------\u001b[0;32m\nNOTE: If your import is failing due to a missing package, you can\nmanually install dependencies using either !pip or !apt.\n\nTo view examples of installing some common dependencies, click the\n\"Open Examples\" button below.\n\u001b[0;31m---------------------------------------------------------------------------\u001b[0m\n"
          ],
          "errorDetails": {
            "actions": [
              {
                "action": "open_url",
                "actionText": "Open Examples",
                "url": "/notebooks/snippets/importing_libraries.ipynb"
              }
            ]
          }
        }
      ]
    },
    {
      "cell_type": "code",
      "source": [
        "pip install tensorboard"
      ],
      "metadata": {
        "colab": {
          "base_uri": "https://localhost:8080/"
        },
        "id": "_lsssu1uPMK2",
        "outputId": "36d28ae0-b74c-44b3-a0a6-c135b504e43c"
      },
      "execution_count": null,
      "outputs": [
        {
          "output_type": "stream",
          "name": "stdout",
          "text": [
            "Requirement already satisfied: tensorboard in /usr/local/lib/python3.7/dist-packages (2.8.0)\n",
            "Requirement already satisfied: google-auth-oauthlib<0.5,>=0.4.1 in /usr/local/lib/python3.7/dist-packages (from tensorboard) (0.4.6)\n",
            "Requirement already satisfied: werkzeug>=0.11.15 in /usr/local/lib/python3.7/dist-packages (from tensorboard) (1.0.1)\n",
            "Requirement already satisfied: tensorboard-plugin-wit>=1.6.0 in /usr/local/lib/python3.7/dist-packages (from tensorboard) (1.8.1)\n",
            "Requirement already satisfied: absl-py>=0.4 in /usr/local/lib/python3.7/dist-packages (from tensorboard) (1.0.0)\n",
            "Requirement already satisfied: google-auth<3,>=1.6.3 in /usr/local/lib/python3.7/dist-packages (from tensorboard) (1.35.0)\n",
            "Requirement already satisfied: numpy>=1.12.0 in /usr/local/lib/python3.7/dist-packages (from tensorboard) (1.21.5)\n",
            "Requirement already satisfied: markdown>=2.6.8 in /usr/local/lib/python3.7/dist-packages (from tensorboard) (3.3.6)\n",
            "Requirement already satisfied: setuptools>=41.0.0 in /usr/local/lib/python3.7/dist-packages (from tensorboard) (57.4.0)\n",
            "Requirement already satisfied: tensorboard-data-server<0.7.0,>=0.6.0 in /usr/local/lib/python3.7/dist-packages (from tensorboard) (0.6.1)\n",
            "Requirement already satisfied: wheel>=0.26 in /usr/local/lib/python3.7/dist-packages (from tensorboard) (0.37.1)\n",
            "Requirement already satisfied: requests<3,>=2.21.0 in /usr/local/lib/python3.7/dist-packages (from tensorboard) (2.27.1)\n",
            "Requirement already satisfied: protobuf>=3.6.0 in /usr/local/lib/python3.7/dist-packages (from tensorboard) (3.19.4)\n",
            "Requirement already satisfied: grpcio>=1.24.3 in /usr/local/lib/python3.7/dist-packages (from tensorboard) (1.44.0)\n",
            "Requirement already satisfied: six in /usr/local/lib/python3.7/dist-packages (from absl-py>=0.4->tensorboard) (1.15.0)\n",
            "Requirement already satisfied: pyasn1-modules>=0.2.1 in /usr/local/lib/python3.7/dist-packages (from google-auth<3,>=1.6.3->tensorboard) (0.2.8)\n",
            "Requirement already satisfied: cachetools<5.0,>=2.0.0 in /usr/local/lib/python3.7/dist-packages (from google-auth<3,>=1.6.3->tensorboard) (4.2.4)\n",
            "Requirement already satisfied: rsa<5,>=3.1.4 in /usr/local/lib/python3.7/dist-packages (from google-auth<3,>=1.6.3->tensorboard) (4.8)\n",
            "Requirement already satisfied: requests-oauthlib>=0.7.0 in /usr/local/lib/python3.7/dist-packages (from google-auth-oauthlib<0.5,>=0.4.1->tensorboard) (1.3.1)\n",
            "Requirement already satisfied: importlib-metadata>=4.4 in /usr/local/lib/python3.7/dist-packages (from markdown>=2.6.8->tensorboard) (4.11.3)\n",
            "Requirement already satisfied: zipp>=0.5 in /usr/local/lib/python3.7/dist-packages (from importlib-metadata>=4.4->markdown>=2.6.8->tensorboard) (3.7.0)\n",
            "Requirement already satisfied: typing-extensions>=3.6.4 in /usr/local/lib/python3.7/dist-packages (from importlib-metadata>=4.4->markdown>=2.6.8->tensorboard) (3.10.0.2)\n",
            "Requirement already satisfied: pyasn1<0.5.0,>=0.4.6 in /usr/local/lib/python3.7/dist-packages (from pyasn1-modules>=0.2.1->google-auth<3,>=1.6.3->tensorboard) (0.4.8)\n",
            "Requirement already satisfied: charset-normalizer~=2.0.0 in /usr/local/lib/python3.7/dist-packages (from requests<3,>=2.21.0->tensorboard) (2.0.12)\n",
            "Requirement already satisfied: idna<4,>=2.5 in /usr/local/lib/python3.7/dist-packages (from requests<3,>=2.21.0->tensorboard) (2.10)\n",
            "Requirement already satisfied: urllib3<1.27,>=1.21.1 in /usr/local/lib/python3.7/dist-packages (from requests<3,>=2.21.0->tensorboard) (1.24.3)\n",
            "Requirement already satisfied: certifi>=2017.4.17 in /usr/local/lib/python3.7/dist-packages (from requests<3,>=2.21.0->tensorboard) (2021.10.8)\n",
            "Requirement already satisfied: oauthlib>=3.0.0 in /usr/local/lib/python3.7/dist-packages (from requests-oauthlib>=0.7.0->google-auth-oauthlib<0.5,>=0.4.1->tensorboard) (3.2.0)\n"
          ]
        }
      ]
    },
    {
      "cell_type": "code",
      "source": [
        "pwd"
      ],
      "metadata": {
        "colab": {
          "base_uri": "https://localhost:8080/",
          "height": 36
        },
        "id": "JYTxYvbARPl1",
        "outputId": "0aca963b-1846-47fc-d8e6-1d3325329af6"
      },
      "execution_count": null,
      "outputs": [
        {
          "output_type": "execute_result",
          "data": {
            "text/plain": [
              "'/content/drive/MyDrive/TF2/models/research'"
            ],
            "application/vnd.google.colaboratory.intrinsic+json": {
              "type": "string"
            }
          },
          "metadata": {},
          "execution_count": 15
        }
      ]
    },
    {
      "cell_type": "code",
      "source": [
        "!python exporter_main_v2.py --input_type image_tensor --pipeline_config_path training/pipeline.config --trained_checkpoint_dir models/my_model --output_directory models/export_model"
      ],
      "metadata": {
        "colab": {
          "base_uri": "https://localhost:8080/"
        },
        "id": "3NM63CL8PzE4",
        "outputId": "0a986124-cb02-497d-d3c8-8b929d048286"
      },
      "execution_count": null,
      "outputs": [
        {
          "output_type": "stream",
          "name": "stdout",
          "text": [
            "2022-04-01 13:19:50.074859: W tensorflow/core/common_runtime/gpu/gpu_bfc_allocator.cc:39] Overriding allow_growth setting because the TF_FORCE_GPU_ALLOW_GROWTH environment variable is set. Original config value was 0.\n",
            "WARNING:tensorflow:From /usr/local/lib/python3.7/dist-packages/tensorflow/python/autograph/impl/api.py:458: calling map_fn_v2 (from tensorflow.python.ops.map_fn) with back_prop=False is deprecated and will be removed in a future version.\n",
            "Instructions for updating:\n",
            "back_prop=False is deprecated. Consider using tf.stop_gradient instead.\n",
            "Instead of:\n",
            "results = tf.map_fn(fn, elems, back_prop=False)\n",
            "Use:\n",
            "results = tf.nest.map_structure(tf.stop_gradient, tf.map_fn(fn, elems))\n",
            "W0401 13:19:50.274500 139802198148992 deprecation.py:615] From /usr/local/lib/python3.7/dist-packages/tensorflow/python/autograph/impl/api.py:458: calling map_fn_v2 (from tensorflow.python.ops.map_fn) with back_prop=False is deprecated and will be removed in a future version.\n",
            "Instructions for updating:\n",
            "back_prop=False is deprecated. Consider using tf.stop_gradient instead.\n",
            "Instead of:\n",
            "results = tf.map_fn(fn, elems, back_prop=False)\n",
            "Use:\n",
            "results = tf.nest.map_structure(tf.stop_gradient, tf.map_fn(fn, elems))\n",
            "2022-04-01 13:20:16.371208: W tensorflow/python/util/util.cc:368] Sets are not currently considered sequences, but this may change in the future, so consider avoiding using them.\n",
            "WARNING:tensorflow:Skipping full serialization of Keras layer <object_detection.meta_architectures.ssd_meta_arch.SSDMetaArch object at 0x7f25337476d0>, because it is not built.\n",
            "W0401 13:20:21.728169 139802198148992 save_impl.py:72] Skipping full serialization of Keras layer <object_detection.meta_architectures.ssd_meta_arch.SSDMetaArch object at 0x7f25337476d0>, because it is not built.\n",
            "W0401 13:20:47.536723 139802198148992 save.py:265] Found untraced functions such as WeightSharedConvolutionalBoxPredictor_layer_call_fn, WeightSharedConvolutionalBoxPredictor_layer_call_and_return_conditional_losses, WeightSharedConvolutionalBoxHead_layer_call_fn, WeightSharedConvolutionalBoxHead_layer_call_and_return_conditional_losses, WeightSharedConvolutionalClassHead_layer_call_fn while saving (showing 5 of 208). These functions will not be directly callable after loading.\n",
            "INFO:tensorflow:Assets written to: models/export_model/saved_model/assets\n",
            "I0401 13:20:58.019483 139802198148992 builder_impl.py:780] Assets written to: models/export_model/saved_model/assets\n",
            "INFO:tensorflow:Writing pipeline config file to models/export_model/pipeline.config\n",
            "I0401 13:20:58.843167 139802198148992 config_util.py:254] Writing pipeline config file to models/export_model/pipeline.config\n"
          ]
        }
      ]
    },
    {
      "cell_type": "code",
      "source": [
        ""
      ],
      "metadata": {
        "id": "xyIDmg-jR1U5"
      },
      "execution_count": null,
      "outputs": []
    }
  ]
}